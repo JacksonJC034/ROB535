{
 "cells": [
  {
   "cell_type": "markdown",
   "metadata": {
    "id": "tD7CwF07Kt3k"
   },
   "source": [
    "# NAVARCH 565 FA 24 Homework 3"
   ]
  },
  {
   "cell_type": "markdown",
   "metadata": {
    "id": "4npv_MTFKymD"
   },
   "source": [
    "### File Submission Instructions\n",
    "\n",
    "#### Submit 3 Files:\n",
    "- `Problem1.py`\n",
    "- `Problem2.py`\n",
    "- `YourNet.pth`\n",
    "\n",
    "Please submit the Python files (`Problem1.py`, `Problem2.py`) along with one trained network file (`YourNet.pth`) that you will generate from Problem 2 (see below). Make sure to name the checkpoint files as **`YourNet.pth`**, as the autograder will look for this specific filename.\n",
    "\n",
    "Enjoy learning Geometry and Basic Deep Learning!"
   ]
  },
  {
   "cell_type": "markdown",
   "metadata": {
    "id": "ap8zVbPZ7htj"
   },
   "source": [
    "# Objectives\n",
    "\n",
    "In this assignment, we will learn to create and train a neural network for image classification. In the task of image classification, we are given an image as input and asked to classify the image within one of a set number of classes. In this case, we will train a network to classify images as one of three labels: car, person, or neither. This information can be especially useful for a self-driving car seeking to identify dynamic objects.\n",
    "\n",
    "Before we start, take a quick read through the PyTorch tutorial on image classification: https://pytorch.org/tutorials/beginner/blitz/cifar10_tutorial.html. We will be referencing the tutorial throughout, and in the end of the assignment you will get a chance to improve upon the network."
   ]
  },
  {
   "cell_type": "markdown",
   "metadata": {
    "id": "gOn1NRJIK081"
   },
   "source": [
    "# Setup Code\n",
    "Before getting started we need to run some boilerplate code to set up our environment. You'll need to rerun this setup code each time you start the notebook.\n",
    "\n",
    "First, run this cell load the [autoreload](https://ipython.readthedocs.io/en/stable/config/extensions/autoreload.html?highlight=autoreload) extension. This allows us to edit `.py` source files, and re-import them into the notebook for a seamless editing and debugging experience."
   ]
  },
  {
   "cell_type": "code",
   "execution_count": 1,
   "metadata": {
    "id": "YS2yuFYJJeP_"
   },
   "outputs": [],
   "source": [
    "%load_ext autoreload\n",
    "%autoreload 2"
   ]
  },
  {
   "cell_type": "markdown",
   "metadata": {
    "id": "CU17Vv24K5cI"
   },
   "source": [
    "### Google Colab Setup\n",
    "\n",
    "Next we need to run a few commands to set up our environment on Google Colab. If you are running this notebook on a local machine you can skip this section.\n",
    "\n",
    "Run the following cell to mount your Google Drive. If prompted \"Permit this notebook to access your Google Drive files?\", select \"Connect to Google Drive\", and sign in to your Google account (the same account you used to store this notebook)."
   ]
  },
  {
   "cell_type": "code",
   "execution_count": null,
   "metadata": {
    "id": "9_wVy2eIJhTG"
   },
   "outputs": [],
   "source": [
    "from google.colab import drive\n",
    "drive.mount('/content/drive')"
   ]
  },
  {
   "cell_type": "markdown",
   "metadata": {
    "id": "te-WJh26K862"
   },
   "source": [
    "### Path configuration\n",
    "Now recall the path in your Google Drive where you uploaded this notebook, fill it in below. If everything is working correctly then running the folowing cell should print the filenames from the assignment:\n",
    "\n",
    "```\n",
    "['utils.py', 'Problem2.py', 'Data', 'CarOrNot.ipynb']\n",
    "```\n",
    "\n",
    "If you are working on a local machine, just set `GOOGLE_DRIVE_PATH` to the path of your `Problem1` folder."
   ]
  },
  {
   "cell_type": "code",
   "execution_count": 2,
   "metadata": {
    "id": "Zt2IYQMFJh1f"
   },
   "outputs": [
    {
     "name": "stdout",
     "output_type": "stream",
     "text": [
      "['YourNet.pth', '__pycache__', 'TutorialNet.pth', 'Problem2.py', 'Data', 'CarOrNot.ipynb', '.DS_Store', 'model', 'utils.py']\n"
     ]
    }
   ],
   "source": [
    "import os\n",
    "\n",
    "# TODO: Fill in the Google Drive path where you uploaded the assignment\n",
    "# Example: If you create a 2024FA folder and put all the files under A3 folder, then '2024FA/A3/Problem2'\n",
    "GOOGLE_DRIVE_PATH_AFTER_MYDRIVE = \"student 2/Problem2\"\n",
    "GOOGLE_DRIVE_PATH = \"/home/tyicao/pan1/535/hw/hw3/hw3/student/Problem2\"\n",
    "print(os.listdir(GOOGLE_DRIVE_PATH))"
   ]
  },
  {
   "cell_type": "code",
   "execution_count": 3,
   "metadata": {
    "id": "omtqsZhJJo8n"
   },
   "outputs": [],
   "source": [
    "import sys\n",
    "sys.path.append(GOOGLE_DRIVE_PATH)\n",
    "\n",
    "import time, os\n",
    "os.environ[\"TZ\"] = \"US/Eastern\"\n",
    "time.tzset()"
   ]
  },
  {
   "cell_type": "code",
   "execution_count": 4,
   "metadata": {
    "id": "kAnZFt8vJuxr"
   },
   "outputs": [],
   "source": [
    "# Imports\n",
    "import numpy as np\n",
    "import torch\n",
    "import yaml\n",
    "\n",
    "%matplotlib inline"
   ]
  },
  {
   "cell_type": "markdown",
   "metadata": {
    "id": "DLycJLMLYE0K"
   },
   "source": [
    "Next we will check if a GPU is available"
   ]
  },
  {
   "cell_type": "code",
   "execution_count": 5,
   "metadata": {
    "id": "-C3tfiOqYEJt"
   },
   "outputs": [
    {
     "name": "stdout",
     "output_type": "stream",
     "text": [
      "Using device: cuda\n"
     ]
    }
   ],
   "source": [
    "device = torch.device('cuda' if torch.cuda.is_available() else 'cpu')\n",
    "print('Using device:', device)"
   ]
  },
  {
   "cell_type": "markdown",
   "metadata": {
    "id": "lMpAIVpSLGXw"
   },
   "source": [
    "Once you have successfully mounted your Google Drive and located the path to this assignment, run the following cell to allow us to import from the `.py` files of this assignment. If it works correctly, it should print the message:\n",
    "\n",
    "```\n",
    "Welcome to assignment 3!\n",
    "```"
   ]
  },
  {
   "cell_type": "code",
   "execution_count": 6,
   "metadata": {
    "id": "XZQwmGMxJ0jD"
   },
   "outputs": [
    {
     "name": "stdout",
     "output_type": "stream",
     "text": [
      "Welcome to assignment 3!\n",
      "Problem2.py last edited on Mon Nov  4 12:38:49 2024\n"
     ]
    }
   ],
   "source": [
    "from utils import *\n",
    "from Problem2 import *\n",
    "hello()\n",
    "\n",
    "py_path = os.path.join(GOOGLE_DRIVE_PATH, 'Problem2.py')\n",
    "py_edit_time = time.ctime(os.path.getmtime(py_path))\n",
    "print('Problem2.py last edited on %s' % py_edit_time)"
   ]
  },
  {
   "cell_type": "markdown",
   "metadata": {
    "id": "Hd_yQryz8g25"
   },
   "source": [
    "# Data Visualization\n",
    "\n",
    "First, let's take a look at some examples of images from the dataset to get a feel for the data. Navigate to the `Train` folder within the `Data` folder to take a look at some of the example images our network will be tasked with labeling. Notice that the images are all of different sizes, which can be challenging for our network."
   ]
  },
  {
   "cell_type": "markdown",
   "metadata": {
    "id": "YvhUGdsuLK9D"
   },
   "source": [
    "### PyTorch Imports and Parameters\n",
    "\n",
    "We need some imports for PyTorch to run, which are found in the code cell below. We also need to set some hyper-parameters. Don't worry about these for now, later you will get a chance to tune them.\n",
    "\n",
    "\n",
    "\n",
    "*   `batch_size` is the number of data examples within a mini-batch.\n",
    "*   `lr` is the learning rate of the network.\n",
    "*   `num_epochs` is the number of epochs, or times the network will train on each individual example.\n",
    "\n",
    "\n",
    "\n"
   ]
  },
  {
   "cell_type": "code",
   "execution_count": 7,
   "metadata": {
    "id": "MFUxtWlzLwU2"
   },
   "outputs": [],
   "source": [
    "import torch\n",
    "import torchvision\n",
    "import matplotlib.pyplot as plt\n",
    "import torch.nn as nn\n",
    "import torch.nn.functional as F\n",
    "import torch.optim as optim"
   ]
  },
  {
   "cell_type": "code",
   "execution_count": 8,
   "metadata": {
    "id": "uW999iOoD3NC"
   },
   "outputs": [],
   "source": [
    "batch_size = 4\n",
    "lr = 0.0003\n",
    "num_epochs = 10"
   ]
  },
  {
   "cell_type": "markdown",
   "metadata": {
    "id": "qAXADT6Y9gVp"
   },
   "source": [
    "### Data Loader\n",
    "Next, we will create data loaders for the training and validation set. Take a look in your Python file at the class `Cars` to how PyTorch datasets are created. Later in your final project you will need to create your own data loaders.\n",
    "\n",
    "Remember how the images were all of different sizes? Fortunately, PyTorch includes special data transformation functions for us to transform each image to the same size. Check out the `transform_train()` function to see how this is accomplished."
   ]
  },
  {
   "cell_type": "code",
   "execution_count": 9,
   "metadata": {
    "id": "5_hdyW9VNuQV"
   },
   "outputs": [],
   "source": [
    "trainset = Cars(os.path.join(GOOGLE_DRIVE_PATH, \"Data\", \"Train\"),\n",
    "                transform=transform_train(), device=device)\n",
    "trainloader = torch.utils.data.DataLoader(trainset, batch_size=batch_size,\n",
    "                                          shuffle=True,\n",
    "                                          collate_fn=trainset.collate_fn)\n",
    "\n",
    "valset = Cars(os.path.join(GOOGLE_DRIVE_PATH, \"Data\", \"Val\"),\n",
    "                transform=transform_test(), device=device)\n",
    "val_loader = torch.utils.data.DataLoader(valset, batch_size=batch_size,\n",
    "                                          shuffle=True,\n",
    "                                          collate_fn=valset.collate_fn)\n",
    "\n",
    "classes = ('None', 'Car', 'Person')"
   ]
  },
  {
   "cell_type": "markdown",
   "metadata": {
    "id": "bGDVfwAJ91_F"
   },
   "source": [
    "Now that we have a data loader, we can take a look at some of the transformed images. Since the PyTorch classification tutorial is on 32x32 pixel images, we will stick with the same. Unfortunately, at that resolution it is difficult to distinguish objects in some of the images. Later, you will get a chance to modify the transformation pipeline and network to operate on your choice of image resolutions."
   ]
  },
  {
   "cell_type": "code",
   "execution_count": 10,
   "metadata": {
    "id": "fMO74YC1NjPg"
   },
   "outputs": [
    {
     "data": {
      "image/png": "[encoded data removed]",
      "text/plain": [
       "<Figure size 640x480 with 1 Axes>"
      ]
     },
     "metadata": {},
     "output_type": "display_data"
    },
    {
     "name": "stdout",
     "output_type": "stream",
     "text": [
      "None  Person Person None \n"
     ]
    }
   ],
   "source": [
    "def imshow(img):\n",
    "    img = img / 2 + 0.5     # unnormalize\n",
    "    npimg = img.numpy()\n",
    "    plt.imshow(np.transpose(npimg, (1, 2, 0)))\n",
    "    plt.show()\n",
    "\n",
    "\n",
    "# get some random training images\n",
    "dataiter = iter(trainloader)\n",
    "images, labels = next(dataiter)\n",
    "\n",
    "# show images\n",
    "imshow(torchvision.utils.make_grid(images))\n",
    "# print labels\n",
    "print(' '.join(f'{classes[labels[j]]:5s}' for j in range(batch_size)))"
   ]
  },
  {
   "cell_type": "markdown",
   "metadata": {
    "id": "O-e5DHfA-icG"
   },
   "source": [
    "# Hello World\n",
    "Now is your chance to create your first network! Read through the PyTorch image classification documentation and implement the demo network in class `TutorialNet`. Note that you will need to make a modification to the network, changing the output size of the last layer to 3 in order to match the number of classes in our dataset.\n",
    "\n",
    "To train our network, we will use the Cross Entropy Loss (https://pytorch.org/docs/stable/generated/torch.nn.CrossEntropyLoss.html) and Adam optimizer (https://pytorch.org/docs/stable/generated/torch.optim.Adam.html)."
   ]
  },
  {
   "cell_type": "code",
   "execution_count": 11,
   "metadata": {
    "id": "78RCzMGHOJVH"
   },
   "outputs": [],
   "source": [
    "# https://pytorch.org/tutorials/beginner/blitz/cifar10_tutorial.html\n",
    "net = TutorialNet().to(device)\n",
    "\n",
    "criterion = nn.CrossEntropyLoss()\n",
    "optimizer = optim.Adam(net.parameters(), lr=lr, weight_decay=1e-5)"
   ]
  },
  {
   "cell_type": "markdown",
   "metadata": {
    "id": "4XVaAgouAJln"
   },
   "source": [
    "Now that the network is created, we can try to run it! Note that you do not need GPU for this assignment, and CPU will be sufficient.\n",
    "\n",
    "The training function is structured as a loop over the number of epochs. Within each epoch, the network first trains over the entire training dataset. Some important steps when training are to:\n",
    "1.   Zero (reset) the gradient.\n",
    "2.   Calculate predictions and a loss function from the predictions.\n",
    "3.   Call `backward()` to calculate the gradient.\n",
    "4.   Step the optimizer to update the network parameters.\n",
    "\n",
    "After the training loop, we also iterate over the validation set to understand how well the network is fitting the data. If the network is fitting the training set but not the validation set, this is known as over-fitting and indicates the network may not adapt well to new data.\n",
    "\n"
   ]
  },
  {
   "cell_type": "code",
   "execution_count": 12,
   "metadata": {
    "id": "GHBVwUSyOhIl"
   },
   "outputs": [],
   "source": [
    "def train_net(net, trainloader, val_loader, device, num_epochs):\n",
    "  for epoch in range(num_epochs):  # loop over the dataset multiple times\n",
    "      # Train\n",
    "      net.train()\n",
    "      running_loss = 0.0\n",
    "      num_iters = 0\n",
    "      for i, data in enumerate(trainloader, 0):\n",
    "          # get the inputs; data is a list of [inputs, labels]\n",
    "          inputs, labels = data\n",
    "          inputs = inputs.to(device)\n",
    "          labels = labels.to(device)\n",
    "\n",
    "          # zero the parameter gradients\n",
    "          optimizer.zero_grad()\n",
    "\n",
    "          # forward + backward + optimize\n",
    "          outputs = net(inputs)\n",
    "          loss = criterion(outputs, labels)\n",
    "          loss.backward()\n",
    "          optimizer.step()\n",
    "\n",
    "          running_loss += loss.item()\n",
    "          num_iters += labels.shape[0]\n",
    "\n",
    "      # print statistics\n",
    "      print(f'epochs: {epoch + 1} loss: {running_loss / num_iters:.3f}')\n",
    "      running_loss = 0.0\n",
    "      num_iters = 0\n",
    "\n",
    "      # Validate\n",
    "      num_correct = 0\n",
    "      num_total = 0\n",
    "      net.eval()\n",
    "      with torch.no_grad():\n",
    "        for i, data in enumerate(val_loader, 0):\n",
    "            # get the inputs; data is a list of [inputs, labels]\n",
    "            inputs, labels = data\n",
    "            inputs = inputs.to(device)\n",
    "            labels = labels.to(device)\n",
    "            outputs = net(inputs)\n",
    "\n",
    "            # Check correct\n",
    "            _, predicted = torch.max(outputs, 1)\n",
    "            num_correct += torch.sum(predicted == labels)\n",
    "            num_total += predicted.shape[0]\n",
    "\n",
    "      # print statistics\n",
    "      print(f'epochs: {epoch + 1} Accuracy Val: {100 * num_correct / num_total:.3f}')\n",
    "  print('Finished Training')"
   ]
  },
  {
   "cell_type": "code",
   "execution_count": 13,
   "metadata": {
    "id": "YvWhquSpEcnF"
   },
   "outputs": [
    {
     "name": "stdout",
     "output_type": "stream",
     "text": [
      "epochs: 1 loss: 0.281\n",
      "epochs: 1 Accuracy Val: 26.000\n",
      "epochs: 2 loss: 0.279\n",
      "epochs: 2 Accuracy Val: 44.000\n",
      "epochs: 3 loss: 0.276\n",
      "epochs: 3 Accuracy Val: 36.000\n",
      "epochs: 4 loss: 0.272\n",
      "epochs: 4 Accuracy Val: 36.000\n",
      "epochs: 5 loss: 0.266\n",
      "epochs: 5 Accuracy Val: 36.000\n",
      "epochs: 6 loss: 0.259\n",
      "epochs: 6 Accuracy Val: 46.000\n",
      "epochs: 7 loss: 0.250\n",
      "epochs: 7 Accuracy Val: 48.000\n",
      "epochs: 8 loss: 0.240\n",
      "epochs: 8 Accuracy Val: 48.000\n",
      "epochs: 9 loss: 0.236\n",
      "epochs: 9 Accuracy Val: 48.000\n",
      "epochs: 10 loss: 0.226\n",
      "epochs: 10 Accuracy Val: 50.000\n",
      "Finished Training\n"
     ]
    }
   ],
   "source": [
    "train_net(net, trainloader, val_loader, device, num_epochs)"
   ]
  },
  {
   "cell_type": "markdown",
   "metadata": {
    "id": "YJpDb_zrBTtR"
   },
   "source": [
    "### Save Network\n",
    "Next, we will save the network to the file `TutorialNet.pth` so it can be loaded later for evaluation."
   ]
  },
  {
   "cell_type": "code",
   "execution_count": 14,
   "metadata": {
    "id": "qhn6JVIzg2M4"
   },
   "outputs": [],
   "source": [
    "PATH = os.path.join(GOOGLE_DRIVE_PATH, 'TutorialNet.pth')\n",
    "torch.save(net.state_dict(), PATH)"
   ]
  },
  {
   "cell_type": "markdown",
   "metadata": {
    "id": "DHlqILdyBeKA"
   },
   "source": [
    "Let's try evaluating the saved weights on some images from the validation set. Hopefully, your network predictions were similar to the ground truth. Don't worry if several predictions were wrong. Next you will get a chance to improve the training by playing with hyper-parameters, network architecture, and image resolution."
   ]
  },
  {
   "cell_type": "code",
   "execution_count": 17,
   "metadata": {
    "id": "xJUzUuA7OmGN"
   },
   "outputs": [
    {
     "data": {
      "image/png": "[encoded data removed]",
      "text/plain": [
       "<Figure size 640x480 with 1 Axes>"
      ]
     },
     "metadata": {},
     "output_type": "display_data"
    },
    {
     "name": "stdout",
     "output_type": "stream",
     "text": [
      "GroundTruth:  Person Car   Person None \n",
      "Predicted:  Person Person Person Person\n"
     ]
    }
   ],
   "source": [
    "dataiter = iter(val_loader)\n",
    "images, labels = next(dataiter)\n",
    "\n",
    "# print images\n",
    "imshow(torchvision.utils.make_grid(images))\n",
    "print('GroundTruth: ', ' '.join(f'{classes[labels[j]]:5s}' for j in range(batch_size)))\n",
    "\n",
    "# Load state dict\n",
    "net = TutorialNet()\n",
    "net.load_state_dict(torch.load(PATH))\n",
    "\n",
    "outputs = net(images)\n",
    "\n",
    "_, predicted = torch.max(outputs, 1)\n",
    "\n",
    "print('Predicted: ', ' '.join(f'{classes[predicted[j]]:5s}'\n",
    "                              for j in range(batch_size)))"
   ]
  },
  {
   "cell_type": "markdown",
   "metadata": {
    "id": "Bq4b-QZeFW-p"
   },
   "source": [
    "# Your Turn!\n",
    "Now that you have learned the basics, have some fun experimenting! Implement `YourNet()` with whatever layers you want. It could be a copy of the previous network, or you can make improvements. You can also try changing the hyper-parameters such as the learning rate, batch size, or number of epochs which we have copied to the cell below for your convenience. Additionally, you can change the `transform_train()` and `transform_test()` functions to have a different size or data augmentations such as `RandomHorizontalFlip()`.\n",
    "\n",
    "To evaluate your network, we will load the frozen weights and use your `transform_test()` function to test the classifier on a hidden test set."
   ]
  },
  {
   "cell_type": "code",
   "execution_count": 92,
   "metadata": {
    "executionInfo": {
     "elapsed": 165,
     "status": "ok",
     "timestamp": 1729467871405,
     "user": {
      "displayName": "Chankyo Kim",
      "userId": "09507995828955470247"
     },
     "user_tz": 240
    },
    "id": "THL4XG4ZCbJd"
   },
   "outputs": [],
   "source": [
    "batch_size = 8\n",
    "lr = 0.0001\n",
    "num_epochs = 200"
   ]
  },
  {
   "cell_type": "code",
   "execution_count": 93,
   "metadata": {
    "id": "866_D6iQFgl2"
   },
   "outputs": [
    {
     "name": "stdout",
     "output_type": "stream",
     "text": [
      "epochs: 1 loss: 0.307\n",
      "epochs: 1 Accuracy Val: 0.000\n",
      "epochs: 2 loss: 0.301\n",
      "epochs: 2 Accuracy Val: 4.000\n",
      "epochs: 3 loss: 0.291\n",
      "epochs: 3 Accuracy Val: 26.000\n",
      "epochs: 4 loss: 0.283\n",
      "epochs: 4 Accuracy Val: 30.000\n",
      "epochs: 5 loss: 0.274\n",
      "epochs: 5 Accuracy Val: 36.000\n",
      "epochs: 6 loss: 0.268\n",
      "epochs: 6 Accuracy Val: 50.000\n",
      "epochs: 7 loss: 0.258\n",
      "epochs: 7 Accuracy Val: 50.000\n",
      "epochs: 8 loss: 0.253\n",
      "epochs: 8 Accuracy Val: 52.000\n",
      "epochs: 9 loss: 0.242\n",
      "epochs: 9 Accuracy Val: 56.000\n",
      "epochs: 10 loss: 0.233\n",
      "epochs: 10 Accuracy Val: 58.000\n",
      "epochs: 11 loss: 0.232\n",
      "epochs: 11 Accuracy Val: 54.000\n",
      "epochs: 12 loss: 0.213\n",
      "epochs: 12 Accuracy Val: 52.000\n",
      "epochs: 13 loss: 0.211\n",
      "epochs: 13 Accuracy Val: 60.000\n",
      "epochs: 14 loss: 0.205\n",
      "epochs: 14 Accuracy Val: 62.000\n",
      "epochs: 15 loss: 0.193\n",
      "epochs: 15 Accuracy Val: 62.000\n",
      "epochs: 16 loss: 0.195\n",
      "epochs: 16 Accuracy Val: 58.000\n",
      "epochs: 17 loss: 0.185\n",
      "epochs: 17 Accuracy Val: 56.000\n",
      "epochs: 18 loss: 0.167\n",
      "epochs: 18 Accuracy Val: 60.000\n",
      "epochs: 19 loss: 0.170\n",
      "epochs: 19 Accuracy Val: 62.000\n",
      "epochs: 20 loss: 0.162\n",
      "epochs: 20 Accuracy Val: 68.000\n",
      "epochs: 21 loss: 0.157\n",
      "epochs: 21 Accuracy Val: 72.000\n",
      "epochs: 22 loss: 0.157\n",
      "epochs: 22 Accuracy Val: 72.000\n",
      "epochs: 23 loss: 0.152\n",
      "epochs: 23 Accuracy Val: 68.000\n",
      "epochs: 24 loss: 0.137\n",
      "epochs: 24 Accuracy Val: 68.000\n",
      "epochs: 25 loss: 0.130\n",
      "epochs: 25 Accuracy Val: 72.000\n",
      "epochs: 26 loss: 0.133\n",
      "epochs: 26 Accuracy Val: 72.000\n",
      "epochs: 27 loss: 0.123\n",
      "epochs: 27 Accuracy Val: 72.000\n",
      "epochs: 28 loss: 0.118\n",
      "epochs: 28 Accuracy Val: 74.000\n",
      "epochs: 29 loss: 0.115\n",
      "epochs: 29 Accuracy Val: 72.000\n",
      "epochs: 30 loss: 0.114\n",
      "epochs: 30 Accuracy Val: 74.000\n",
      "epochs: 31 loss: 0.106\n",
      "epochs: 31 Accuracy Val: 76.000\n",
      "epochs: 32 loss: 0.095\n",
      "epochs: 32 Accuracy Val: 76.000\n",
      "epochs: 33 loss: 0.097\n",
      "epochs: 33 Accuracy Val: 76.000\n",
      "epochs: 34 loss: 0.092\n",
      "epochs: 34 Accuracy Val: 74.000\n",
      "epochs: 35 loss: 0.091\n",
      "epochs: 35 Accuracy Val: 76.000\n",
      "epochs: 36 loss: 0.082\n",
      "epochs: 36 Accuracy Val: 78.000\n",
      "epochs: 37 loss: 0.084\n",
      "epochs: 37 Accuracy Val: 74.000\n",
      "epochs: 38 loss: 0.079\n",
      "epochs: 38 Accuracy Val: 78.000\n",
      "epochs: 39 loss: 0.064\n",
      "epochs: 39 Accuracy Val: 74.000\n",
      "epochs: 40 loss: 0.068\n",
      "epochs: 40 Accuracy Val: 82.000\n",
      "epochs: 41 loss: 0.070\n",
      "epochs: 41 Accuracy Val: 82.000\n",
      "epochs: 42 loss: 0.065\n",
      "epochs: 42 Accuracy Val: 72.000\n",
      "epochs: 43 loss: 0.073\n",
      "epochs: 43 Accuracy Val: 80.000\n",
      "epochs: 44 loss: 0.058\n",
      "epochs: 44 Accuracy Val: 78.000\n",
      "epochs: 45 loss: 0.062\n",
      "epochs: 45 Accuracy Val: 82.000\n",
      "epochs: 46 loss: 0.058\n",
      "epochs: 46 Accuracy Val: 76.000\n",
      "epochs: 47 loss: 0.061\n",
      "epochs: 47 Accuracy Val: 74.000\n",
      "epochs: 48 loss: 0.053\n",
      "epochs: 48 Accuracy Val: 84.000\n",
      "epochs: 49 loss: 0.054\n",
      "epochs: 49 Accuracy Val: 80.000\n",
      "epochs: 50 loss: 0.061\n",
      "epochs: 50 Accuracy Val: 84.000\n",
      "epochs: 51 loss: 0.057\n",
      "epochs: 51 Accuracy Val: 80.000\n",
      "epochs: 52 loss: 0.045\n",
      "epochs: 52 Accuracy Val: 76.000\n",
      "epochs: 53 loss: 0.060\n",
      "epochs: 53 Accuracy Val: 80.000\n",
      "epochs: 54 loss: 0.061\n",
      "epochs: 54 Accuracy Val: 78.000\n",
      "epochs: 55 loss: 0.053\n",
      "epochs: 55 Accuracy Val: 68.000\n",
      "epochs: 56 loss: 0.045\n",
      "epochs: 56 Accuracy Val: 76.000\n",
      "epochs: 57 loss: 0.045\n",
      "epochs: 57 Accuracy Val: 78.000\n",
      "epochs: 58 loss: 0.038\n",
      "epochs: 58 Accuracy Val: 82.000\n",
      "epochs: 59 loss: 0.043\n",
      "epochs: 59 Accuracy Val: 84.000\n",
      "epochs: 60 loss: 0.045\n",
      "epochs: 60 Accuracy Val: 84.000\n",
      "epochs: 61 loss: 0.030\n",
      "epochs: 61 Accuracy Val: 76.000\n",
      "epochs: 62 loss: 0.045\n",
      "epochs: 62 Accuracy Val: 78.000\n",
      "epochs: 63 loss: 0.031\n",
      "epochs: 63 Accuracy Val: 80.000\n",
      "epochs: 64 loss: 0.029\n",
      "epochs: 64 Accuracy Val: 68.000\n",
      "epochs: 65 loss: 0.026\n",
      "epochs: 65 Accuracy Val: 82.000\n",
      "epochs: 66 loss: 0.034\n",
      "epochs: 66 Accuracy Val: 78.000\n",
      "epochs: 67 loss: 0.027\n",
      "epochs: 67 Accuracy Val: 82.000\n",
      "epochs: 68 loss: 0.026\n",
      "epochs: 68 Accuracy Val: 84.000\n",
      "epochs: 69 loss: 0.049\n",
      "epochs: 69 Accuracy Val: 88.000\n",
      "epochs: 70 loss: 0.028\n",
      "epochs: 70 Accuracy Val: 82.000\n",
      "epochs: 71 loss: 0.029\n",
      "epochs: 71 Accuracy Val: 84.000\n",
      "epochs: 72 loss: 0.025\n",
      "epochs: 72 Accuracy Val: 80.000\n",
      "epochs: 73 loss: 0.018\n",
      "epochs: 73 Accuracy Val: 74.000\n",
      "epochs: 74 loss: 0.027\n",
      "epochs: 74 Accuracy Val: 84.000\n",
      "epochs: 75 loss: 0.023\n",
      "epochs: 75 Accuracy Val: 82.000\n",
      "epochs: 76 loss: 0.026\n",
      "epochs: 76 Accuracy Val: 80.000\n",
      "epochs: 77 loss: 0.028\n",
      "epochs: 77 Accuracy Val: 82.000\n",
      "epochs: 78 loss: 0.023\n",
      "epochs: 78 Accuracy Val: 80.000\n",
      "epochs: 79 loss: 0.033\n",
      "epochs: 79 Accuracy Val: 68.000\n",
      "epochs: 80 loss: 0.036\n",
      "epochs: 80 Accuracy Val: 80.000\n",
      "epochs: 81 loss: 0.029\n",
      "epochs: 81 Accuracy Val: 70.000\n",
      "epochs: 82 loss: 0.017\n",
      "epochs: 82 Accuracy Val: 76.000\n",
      "epochs: 83 loss: 0.024\n",
      "epochs: 83 Accuracy Val: 76.000\n",
      "epochs: 84 loss: 0.020\n",
      "epochs: 84 Accuracy Val: 84.000\n",
      "epochs: 85 loss: 0.017\n",
      "epochs: 85 Accuracy Val: 80.000\n",
      "epochs: 86 loss: 0.021\n",
      "epochs: 86 Accuracy Val: 84.000\n",
      "epochs: 87 loss: 0.024\n",
      "epochs: 87 Accuracy Val: 78.000\n",
      "epochs: 88 loss: 0.021\n",
      "epochs: 88 Accuracy Val: 80.000\n",
      "epochs: 89 loss: 0.015\n",
      "epochs: 89 Accuracy Val: 80.000\n",
      "epochs: 90 loss: 0.016\n",
      "epochs: 90 Accuracy Val: 84.000\n",
      "epochs: 91 loss: 0.017\n",
      "epochs: 91 Accuracy Val: 88.000\n",
      "epochs: 92 loss: 0.017\n",
      "epochs: 92 Accuracy Val: 86.000\n",
      "epochs: 93 loss: 0.017\n",
      "epochs: 93 Accuracy Val: 84.000\n",
      "epochs: 94 loss: 0.014\n",
      "epochs: 94 Accuracy Val: 84.000\n",
      "epochs: 95 loss: 0.023\n",
      "epochs: 95 Accuracy Val: 74.000\n",
      "epochs: 96 loss: 0.023\n",
      "epochs: 96 Accuracy Val: 74.000\n",
      "epochs: 97 loss: 0.019\n",
      "epochs: 97 Accuracy Val: 70.000\n",
      "epochs: 98 loss: 0.021\n",
      "epochs: 98 Accuracy Val: 76.000\n",
      "epochs: 99 loss: 0.021\n",
      "epochs: 99 Accuracy Val: 80.000\n",
      "epochs: 100 loss: 0.012\n",
      "epochs: 100 Accuracy Val: 80.000\n",
      "epochs: 101 loss: 0.014\n",
      "epochs: 101 Accuracy Val: 82.000\n",
      "epochs: 102 loss: 0.016\n",
      "epochs: 102 Accuracy Val: 78.000\n",
      "epochs: 103 loss: 0.017\n",
      "epochs: 103 Accuracy Val: 80.000\n",
      "epochs: 104 loss: 0.013\n",
      "epochs: 104 Accuracy Val: 68.000\n",
      "epochs: 105 loss: 0.024\n",
      "epochs: 105 Accuracy Val: 82.000\n",
      "epochs: 106 loss: 0.022\n",
      "epochs: 106 Accuracy Val: 82.000\n",
      "epochs: 107 loss: 0.009\n",
      "epochs: 107 Accuracy Val: 74.000\n",
      "epochs: 108 loss: 0.011\n",
      "epochs: 108 Accuracy Val: 82.000\n",
      "epochs: 109 loss: 0.013\n",
      "epochs: 109 Accuracy Val: 80.000\n",
      "epochs: 110 loss: 0.013\n",
      "epochs: 110 Accuracy Val: 82.000\n",
      "epochs: 111 loss: 0.018\n",
      "epochs: 111 Accuracy Val: 76.000\n",
      "epochs: 112 loss: 0.010\n",
      "epochs: 112 Accuracy Val: 82.000\n",
      "epochs: 113 loss: 0.010\n",
      "epochs: 113 Accuracy Val: 86.000\n",
      "epochs: 114 loss: 0.010\n",
      "epochs: 114 Accuracy Val: 84.000\n",
      "epochs: 115 loss: 0.012\n",
      "epochs: 115 Accuracy Val: 84.000\n",
      "epochs: 116 loss: 0.009\n",
      "epochs: 116 Accuracy Val: 82.000\n",
      "epochs: 117 loss: 0.009\n",
      "epochs: 117 Accuracy Val: 78.000\n",
      "epochs: 118 loss: 0.009\n",
      "epochs: 118 Accuracy Val: 82.000\n",
      "epochs: 119 loss: 0.009\n",
      "epochs: 119 Accuracy Val: 82.000\n",
      "epochs: 120 loss: 0.010\n",
      "epochs: 120 Accuracy Val: 82.000\n",
      "epochs: 121 loss: 0.012\n",
      "epochs: 121 Accuracy Val: 84.000\n",
      "epochs: 122 loss: 0.009\n",
      "epochs: 122 Accuracy Val: 84.000\n",
      "epochs: 123 loss: 0.010\n",
      "epochs: 123 Accuracy Val: 84.000\n",
      "epochs: 124 loss: 0.009\n",
      "epochs: 124 Accuracy Val: 82.000\n",
      "epochs: 125 loss: 0.005\n",
      "epochs: 125 Accuracy Val: 76.000\n",
      "epochs: 126 loss: 0.004\n",
      "epochs: 126 Accuracy Val: 84.000\n",
      "epochs: 127 loss: 0.010\n",
      "epochs: 127 Accuracy Val: 82.000\n",
      "epochs: 128 loss: 0.008\n",
      "epochs: 128 Accuracy Val: 88.000\n",
      "epochs: 129 loss: 0.013\n",
      "epochs: 129 Accuracy Val: 84.000\n",
      "epochs: 130 loss: 0.004\n",
      "epochs: 130 Accuracy Val: 86.000\n",
      "epochs: 131 loss: 0.006\n",
      "epochs: 131 Accuracy Val: 84.000\n",
      "epochs: 132 loss: 0.013\n",
      "epochs: 132 Accuracy Val: 80.000\n",
      "epochs: 133 loss: 0.006\n",
      "epochs: 133 Accuracy Val: 86.000\n",
      "epochs: 134 loss: 0.009\n",
      "epochs: 134 Accuracy Val: 84.000\n",
      "epochs: 135 loss: 0.019\n",
      "epochs: 135 Accuracy Val: 82.000\n",
      "epochs: 136 loss: 0.016\n",
      "epochs: 136 Accuracy Val: 84.000\n",
      "epochs: 137 loss: 0.009\n",
      "epochs: 137 Accuracy Val: 76.000\n",
      "epochs: 138 loss: 0.006\n",
      "epochs: 138 Accuracy Val: 82.000\n",
      "epochs: 139 loss: 0.006\n",
      "epochs: 139 Accuracy Val: 78.000\n",
      "epochs: 140 loss: 0.007\n",
      "epochs: 140 Accuracy Val: 86.000\n",
      "epochs: 141 loss: 0.006\n",
      "epochs: 141 Accuracy Val: 78.000\n",
      "epochs: 142 loss: 0.006\n",
      "epochs: 142 Accuracy Val: 84.000\n",
      "epochs: 143 loss: 0.004\n",
      "epochs: 143 Accuracy Val: 82.000\n",
      "epochs: 144 loss: 0.006\n",
      "epochs: 144 Accuracy Val: 84.000\n",
      "epochs: 145 loss: 0.005\n",
      "epochs: 145 Accuracy Val: 84.000\n",
      "epochs: 146 loss: 0.005\n",
      "epochs: 146 Accuracy Val: 84.000\n",
      "epochs: 147 loss: 0.013\n",
      "epochs: 147 Accuracy Val: 82.000\n",
      "epochs: 148 loss: 0.011\n",
      "epochs: 148 Accuracy Val: 84.000\n",
      "epochs: 149 loss: 0.010\n",
      "epochs: 149 Accuracy Val: 82.000\n",
      "epochs: 150 loss: 0.006\n",
      "epochs: 150 Accuracy Val: 84.000\n",
      "epochs: 151 loss: 0.012\n",
      "epochs: 151 Accuracy Val: 82.000\n",
      "epochs: 152 loss: 0.007\n",
      "epochs: 152 Accuracy Val: 82.000\n",
      "epochs: 153 loss: 0.003\n",
      "epochs: 153 Accuracy Val: 86.000\n",
      "epochs: 154 loss: 0.004\n",
      "epochs: 154 Accuracy Val: 86.000\n",
      "epochs: 155 loss: 0.004\n",
      "epochs: 155 Accuracy Val: 80.000\n",
      "epochs: 156 loss: 0.007\n",
      "epochs: 156 Accuracy Val: 84.000\n",
      "epochs: 157 loss: 0.005\n",
      "epochs: 157 Accuracy Val: 84.000\n",
      "epochs: 158 loss: 0.005\n",
      "epochs: 158 Accuracy Val: 84.000\n",
      "epochs: 159 loss: 0.015\n",
      "epochs: 159 Accuracy Val: 84.000\n",
      "epochs: 160 loss: 0.003\n",
      "epochs: 160 Accuracy Val: 80.000\n",
      "epochs: 161 loss: 0.005\n",
      "epochs: 161 Accuracy Val: 78.000\n",
      "epochs: 162 loss: 0.011\n",
      "epochs: 162 Accuracy Val: 80.000\n",
      "epochs: 163 loss: 0.009\n",
      "epochs: 163 Accuracy Val: 80.000\n",
      "epochs: 164 loss: 0.004\n",
      "epochs: 164 Accuracy Val: 72.000\n",
      "epochs: 165 loss: 0.006\n",
      "epochs: 165 Accuracy Val: 86.000\n",
      "epochs: 166 loss: 0.003\n",
      "epochs: 166 Accuracy Val: 80.000\n",
      "epochs: 167 loss: 0.004\n",
      "epochs: 167 Accuracy Val: 86.000\n",
      "epochs: 168 loss: 0.005\n",
      "epochs: 168 Accuracy Val: 80.000\n",
      "epochs: 169 loss: 0.007\n",
      "epochs: 169 Accuracy Val: 82.000\n",
      "epochs: 170 loss: 0.005\n",
      "epochs: 170 Accuracy Val: 80.000\n",
      "epochs: 171 loss: 0.004\n",
      "epochs: 171 Accuracy Val: 84.000\n",
      "epochs: 172 loss: 0.006\n",
      "epochs: 172 Accuracy Val: 84.000\n",
      "epochs: 173 loss: 0.003\n",
      "epochs: 173 Accuracy Val: 82.000\n",
      "epochs: 174 loss: 0.003\n",
      "epochs: 174 Accuracy Val: 84.000\n",
      "epochs: 175 loss: 0.004\n",
      "epochs: 175 Accuracy Val: 82.000\n",
      "epochs: 176 loss: 0.003\n",
      "epochs: 176 Accuracy Val: 84.000\n",
      "epochs: 177 loss: 0.004\n",
      "epochs: 177 Accuracy Val: 70.000\n",
      "epochs: 178 loss: 0.004\n",
      "epochs: 178 Accuracy Val: 82.000\n",
      "epochs: 179 loss: 0.005\n",
      "epochs: 179 Accuracy Val: 82.000\n",
      "epochs: 180 loss: 0.003\n",
      "epochs: 180 Accuracy Val: 82.000\n",
      "epochs: 181 loss: 0.003\n",
      "epochs: 181 Accuracy Val: 86.000\n",
      "epochs: 182 loss: 0.004\n",
      "epochs: 182 Accuracy Val: 84.000\n",
      "epochs: 183 loss: 0.006\n",
      "epochs: 183 Accuracy Val: 84.000\n",
      "epochs: 184 loss: 0.003\n",
      "epochs: 184 Accuracy Val: 82.000\n",
      "epochs: 185 loss: 0.003\n",
      "epochs: 185 Accuracy Val: 80.000\n",
      "epochs: 186 loss: 0.003\n",
      "epochs: 186 Accuracy Val: 84.000\n",
      "epochs: 187 loss: 0.006\n",
      "epochs: 187 Accuracy Val: 82.000\n",
      "epochs: 188 loss: 0.004\n",
      "epochs: 188 Accuracy Val: 80.000\n",
      "epochs: 189 loss: 0.002\n",
      "epochs: 189 Accuracy Val: 80.000\n",
      "epochs: 190 loss: 0.004\n",
      "epochs: 190 Accuracy Val: 82.000\n",
      "epochs: 191 loss: 0.004\n",
      "epochs: 191 Accuracy Val: 78.000\n",
      "epochs: 192 loss: 0.002\n",
      "epochs: 192 Accuracy Val: 82.000\n",
      "epochs: 193 loss: 0.004\n",
      "epochs: 193 Accuracy Val: 84.000\n",
      "epochs: 194 loss: 0.006\n",
      "epochs: 194 Accuracy Val: 84.000\n",
      "epochs: 195 loss: 0.002\n",
      "epochs: 195 Accuracy Val: 84.000\n",
      "epochs: 196 loss: 0.001\n",
      "epochs: 196 Accuracy Val: 86.000\n",
      "epochs: 197 loss: 0.003\n",
      "epochs: 197 Accuracy Val: 86.000\n",
      "epochs: 198 loss: 0.002\n",
      "epochs: 198 Accuracy Val: 86.000\n",
      "epochs: 199 loss: 0.004\n",
      "epochs: 199 Accuracy Val: 86.000\n",
      "epochs: 200 loss: 0.002\n",
      "epochs: 200 Accuracy Val: 86.000\n",
      "Finished Training\n"
     ]
    }
   ],
   "source": [
    "# Recreate the data loaders in case they have changed\n",
    "trainset = Cars(os.path.join(GOOGLE_DRIVE_PATH, \"Data\", \"Train\"),\n",
    "                transform=transform_train(), device=device)\n",
    "trainloader = torch.utils.data.DataLoader(trainset, batch_size=batch_size,\n",
    "                                          shuffle=True,\n",
    "                                          collate_fn=trainset.collate_fn)\n",
    "\n",
    "valset = Cars(os.path.join(GOOGLE_DRIVE_PATH, \"Data\", \"Val\"),\n",
    "                transform=transform_test(), device=device)\n",
    "val_loader = torch.utils.data.DataLoader(valset, batch_size=batch_size,\n",
    "                                          shuffle=True,\n",
    "                                          collate_fn=valset.collate_fn)\n",
    "\n",
    "# Load the network\n",
    "net = YourNet().to(device)\n",
    "\n",
    "# Define the criterion and optimizer\n",
    "criterion = nn.CrossEntropyLoss()\n",
    "optimizer = optim.Adam(net.parameters(), lr=lr, weight_decay=1e-5)\n",
    "\n",
    "# Train the network\n",
    "train_net(net, trainloader, val_loader, device, num_epochs)\n",
    "\n",
    "# Save the weights\n",
    "PATH = os.path.join(GOOGLE_DRIVE_PATH, 'YourNet.pth')\n",
    "torch.save(net.state_dict(), PATH)"
   ]
  },
  {
   "cell_type": "markdown",
   "metadata": {
    "id": "zPXVxYndDD7F"
   },
   "source": [
    "Run the following cell to visualize your saved weights"
   ]
  },
  {
   "cell_type": "code",
   "execution_count": 97,
   "metadata": {
    "id": "MY_-FzXNGpIb"
   },
   "outputs": [
    {
     "data": {
      "image/png": "[encoded data removed]",
      "text/plain": [
       "<Figure size 640x480 with 1 Axes>"
      ]
     },
     "metadata": {},
     "output_type": "display_data"
    },
    {
     "name": "stdout",
     "output_type": "stream",
     "text": [
      "GroundTruth:  None  None  Person Car   Person None  Car   Car  \n",
      "Predicted:  None  None  Person Car   Person None  Car   Car  \n"
     ]
    }
   ],
   "source": [
    "dataiter = iter(val_loader)\n",
    "images, labels = next(dataiter)\n",
    "\n",
    "# print images\n",
    "imshow(torchvision.utils.make_grid(images))\n",
    "print('GroundTruth: ', ' '.join(f'{classes[labels[j]]:5s}' for j in range(batch_size)))\n",
    "\n",
    "net = YourNet()\n",
    "net.load_state_dict(torch.load(PATH))\n",
    "\n",
    "outputs = net(images)\n",
    "\n",
    "_, predicted = torch.max(outputs, 1)\n",
    "\n",
    "print('Predicted: ', ' '.join(f'{classes[predicted[j]]:5s}'\n",
    "                              for j in range(batch_size)))"
   ]
  },
  {
   "cell_type": "markdown",
   "metadata": {
    "id": "FH47dyhZHvTy"
   },
   "source": [
    "# That's it!\n",
    "When you are happy with your network's performance, submit the weights to the autograder to evaluate on the test set. We will run your network and grade the output on a hidden test set. Make sure the network is not too large, otherwise it may fail to finish running.\n",
    "\n",
    "This problem contains two grades:\n",
    "*   50 points for having the correct number of classes in your network final layer\n",
    "*   150 points from the accuracy on the test set, based on a sliding scale with partial credit.\n",
    "\n",
    "For submission, please submit `Problem1.py`, `Problem2.py`, and `YourNet.pth`.\n"
   ]
  },
  {
   "cell_type": "code",
   "execution_count": null,
   "metadata": {
    "id": "mkTbbTAATRMc"
   },
   "outputs": [],
   "source": []
  }
 ],
 "metadata": {
  "accelerator": "GPU",
  "colab": {
   "gpuType": "T4",
   "provenance": []
  },
  "kernelspec": {
   "display_name": "ppo_ADRL",
   "language": "python",
   "name": "python3"
  },
  "language_info": {
   "codemirror_mode": {
    "name": "ipython",
    "version": 3
   },
   "file_extension": ".py",
   "mimetype": "text/x-python",
   "name": "python",
   "nbconvert_exporter": "python",
   "pygments_lexer": "ipython3",
   "version": "3.7.16"
  }
 },
 "nbformat": 4,
 "nbformat_minor": 0
}
