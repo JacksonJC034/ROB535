{
 "cells": [
  {
   "attachments": {},
   "cell_type": "markdown",
   "id": "208bcadb",
   "metadata": {},
   "source": [
    "# Overtaking control using kinematic bicycle model\n",
    "In this task, you will design a nonlinear MPC on a kinematic bicycle car model to overtake the leading vehicle.\n",
    "\n",
    "You will need to fill the **student_controller()** function and return the required utils for *Casadi* nonlinear programming solver. "
   ]
  },
  {
   "attachments": {},
   "cell_type": "markdown",
   "id": "0ca8aca8",
   "metadata": {},
   "source": [
    "## System model\n",
    "\n",
    "The leading vehicle is cruising with velocity $\\bar{v}_x$ along the center of a straight lane. Let the left hand side of the driving direction be the positive direction of $y$ and the $y$ position of leading vehicle as $0$.\n",
    "\n",
    "The state of the ego vehicle is defined as the position with respect to the leading car $\\left[x, y\\right]$, yaw angle $\\psi$, and the velocity $v$. The vehicle is controlled by the steering angle of front wheel $\\delta$ and the acceleration $a$.\n",
    "\n",
    "Thus, the dynamics of the vehicle can be expressed as:\n",
    "\n",
    "$$\n",
    "\\frac{d}{dt} \\begin{bmatrix} x \\\\ y \\\\ \\psi \\\\ v \\end{bmatrix}\n",
    "= \\begin{bmatrix} v\\cos(\\psi + \\beta) - \\bar{v}_x \\\\\n",
    "                  v\\sin(\\psi + \\beta)\\\\\n",
    "                  \\frac{v}{L_r} \\sin\\beta \\\\\n",
    "                  a\n",
    "  \\end{bmatrix}, \\text{with } \\beta := \\arctan(\\frac{L_r}{L_r + L_f} \\arctan \\delta).\n",
    "$$\n",
    "\n",
    "where $L_r$ and $L_f$ are distances from the rear or front axes to the center of the vehicle. \n",
    "\n",
    "We apply the explicit Euler integration to obtain the discrete-time dynamics model of $\\dot{s}=f(s, u) \\ \\ \\text{as}\\ \\ s_{k+1} = s_{k} + f(s_k, u_k) \\Delta t.$\n",
    "\n",
    "In this task, we assume $\\Delta t = 0.1s$ in both simulation and controller design."
   ]
  },
  {
   "attachments": {},
   "cell_type": "markdown",
   "id": "0da0a533",
   "metadata": {},
   "source": [
    "\n",
    "<div>\n",
    "<img src=\"takeover.png\" width=\"800\" align=\"left\"/>\n",
    "</div>"
   ]
  },
  {
   "attachments": {},
   "cell_type": "markdown",
   "id": "0929df8f",
   "metadata": {},
   "source": [
    "## Controller design\n",
    "\n",
    "You are supposed to design a MPC controller of the following form to takeover the leading vehicle with desired velocity and go back to the same lane as the leading vehicle.\n",
    "\n",
    "$\n",
    "\\begin{equation}\n",
    "    \\begin{aligned}\n",
    "    \\min_{s_k, u_k} & \\ C_{N} + \\sum_{k=0}^{N-1} C_{k} \\\\ \n",
    "    \\text{s.t. } & s_{k+1} = s_{k} + f(s_k, u_k) \\Delta t, \\ k = 0, \\dots, N-1, \\\\\n",
    "                 & Cons1_k, Cons2_k, Cons3_k, Cons4_k, \\\\\n",
    "                 & s_0 = s_{init}.\n",
    "    \\end{aligned}\n",
    "\\end{equation}\n",
    "$\n",
    "\n",
    "Here, $C_{N}$ is the terminal cost function, $C_{k}$ is the running cost function.\n",
    "\n",
    "### Cost function\n",
    "\n",
    "Consider these goals when designing your cost function:\n",
    "\n",
    "C1: Track a desired longitudinal velocity. \n",
    "\n",
    "C2: Regularize the lateral velocity and yaw rate.\n",
    "\n",
    "C3: Encourage the car to stay at the same lane as the leading vehicle. \n",
    "\n",
    "C4: Regularize the control inputs. \n",
    "\n",
    "Hint: \n",
    "1. When the car successfully takes over the car, the car will return to the original lane. Thus, enforce the position constraints (C3) and the car will automatically have zero lateral and angular velocity (C2).\n",
    "2. It is advised to implement (C1) and (C4) first, tune the coefficients so that all the constraint are met, then add (C3).\n",
    "3. The terminal cost function $C_{N}$ should not include (C4) and could be larger to ensure the goal is achieved.\n",
    "\n",
    "### Constraints\n",
    "\n",
    "#### Cons1: Collision avoidance:\n",
    "We consider a elliposoidal safety set for the vehicle when overtaking the car\n",
    "\n",
    "$(\\frac{x_k}{r_x})^2 + (\\frac{y_k}{r_y})^2 - 1 \\ge 0 $, \n",
    "\n",
    "We assign $r_x = 30 m, r_y = 2 m$.\n",
    "\n",
    "#### Cons1: Maximum lateral acceleration\n",
    "We restrict the lateral acceleration $a_y$ by:\n",
    "$|a_y| \\le 0.5 \\mu g $, where $\\mu$ is the coefficient of friction and $g$ is the gravity. \n",
    "\n",
    "Hint: The lateral acceleration $ a_y = v \\dot{\\psi}$. What is $\\dot{\\psi}?$\n",
    "\n",
    "We assume the $\\mu = 0.6$ and $g = 9.81 m / s$.\n",
    "\n",
    "#### Cons2: lane keeping\n",
    "We restrict the car to only overtake the car using the left lane and do not cross the right lane.\n",
    "\n",
    "$y_R \\le y \\le y_L$\n",
    "\n",
    "We assume $y_L = 3m$ and $y_R = -1m$.\n",
    "\n",
    "#### Cons3: steering rate ####\n",
    "The steering angle of the vehicle can not change too fast:\n",
    "\n",
    "<!-- $|\\delta_{k+1} - \\delta_{k}| \\le |\\dot{\\delta}|_{\\max} \\Delta t $ -->\n",
    "$\\|\\dot{\\delta}\\| \\le |\\dot{\\delta}|_{max} = 0.6 \\text{rad}/s$. \n",
    "\n",
    "#### Cons4: input bounds\n",
    "The input is within the bounds:\n",
    "\n",
    "$-10 m/s^2 = a_{\\min} \\le a \\le a_{\\max} = 4 m / s^2$\n",
    "\n",
    "$-0.6rad = \\delta_{\\min} \\le \\delta \\le \\delta_{\\max} = 0.6rad $"
   ]
  },
  {
   "attachments": {},
   "cell_type": "markdown",
   "id": "b0b9b83f",
   "metadata": {},
   "source": [
    "## Submission detail\n",
    "\n",
    "### Controller input\n",
    "The autograder will provide the initial condition of the state, leader car velocity, desired longitudinal speed and the steering angle from the last step. \n",
    "\n",
    "### Controller output\n",
    "You are supposed to fill the **nmpc_controller()** in **nmpc_controller.py**, which will return an instance of the nonlinear programming problem, the planning horizon, shapes of the varaibles, and bounds. "
   ]
  },
  {
   "cell_type": "code",
   "execution_count": 1,
   "id": "c718f8e3",
   "metadata": {},
   "outputs": [],
   "source": [
    "%load_ext autoreload\n",
    "%autoreload 2\n",
    "from utils import eval_controller, plot_results"
   ]
  },
  {
   "cell_type": "code",
   "execution_count": null,
   "id": "efc38b87",
   "metadata": {},
   "outputs": [],
   "source": [
    "# Initial test case\n",
    "x0 = [\n",
    "    -49., # x: x distance between our car and leader car\n",
    "    0.0,  # y: y distance between our car and leader car\n",
    "    0.0,  # yaw: yaw angle of our car\n",
    "    50.,  # v: velocity of our car\n",
    "    20.,  # v_x_leader: x velocity of leader car\n",
    "    0.0,  # v_y_leader: y velocity of leader car\n",
    "    50.0  # v_x_desired: desired takeover x velocity of our car\n",
    "]\n",
    "x0 = [-50., -0.5, -0.06, 30., 30., 0., 40.]\n",
    "xt, ut = eval_controller(x0)\n",
    "plot_results(x0, xt, ut)\n"
   ]
  }
 ],
 "metadata": {
  "kernelspec": {
   "display_name": "Python 3 (ipykernel)",
   "language": "python",
   "name": "python3"
  },
  "language_info": {
   "codemirror_mode": {
    "name": "ipython",
    "version": 3
   },
   "file_extension": ".py",
   "mimetype": "text/x-python",
   "name": "python",
   "nbconvert_exporter": "python",
   "pygments_lexer": "ipython3",
   "version": "3.9.19"
  }
 },
 "nbformat": 4,
 "nbformat_minor": 5
}
