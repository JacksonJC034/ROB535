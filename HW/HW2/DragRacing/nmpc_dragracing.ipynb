{
 "cells": [
  {
   "cell_type": "markdown",
   "id": "df98f53c",
   "metadata": {},
   "source": [
    "# Drag Racing\n",
    "\n",
    "In this task, you will design a nonlinear MPC controller to let the car travel as far as possible in positive $x$ direction in a fixed time interval.\n",
    "\n",
    "The goal is to stay close to $y = 0$, while avoiding an obstacle at $x = 500, y = 0$.\n",
    "\n",
    "We consider the car model with tire dynamics introduced in the lecture. \n",
    "\n",
    "The key to this problem is to use as much tire forces as possible, while ensuring that the car does not lose control. "
   ]
  },
  {
   "cell_type": "markdown",
   "id": "b31c5ab6",
   "metadata": {},
   "source": [
    "## Car Dynamics\n",
    "\n",
    "![CarModel](CarModel.png)\n",
    "\n",
    "We consider the car dynamics with lumped rear and front tire forces. \n",
    "\n",
    "For simplicity, we consider the positions and orientation in the world coordinates.  \n",
    "\n",
    "\\begin{aligned}\n",
    "\\dot{U}_x & =\\frac{F_{x_f} \\cos \\delta-F_{y_f} \\sin \\delta+F_{x_r}-F_d}{m}+r U_y \\\\\n",
    "\\dot{U}_y & =\\frac{F_{y_f} \\cos \\delta+F_{x_f} \\sin \\delta+F_{y_r}+F_b}{m}-r U_x \\\\\n",
    "\\dot{r} & =\\frac{a\\left(F_{y_f} \\cos \\delta+F_{x_f} \\sin \\delta\\right)-b F_{y_r}}{I_{z z}} \\\\\n",
    "\\dot{x} & = \\cos(\\phi)U_x - \\sin(\\phi)U_y  \\\\\n",
    "\\dot{y} & = \\sin(\\phi)U_x + \\sin(\\phi)U_y   \\\\ \n",
    "\\dot{\\phi} & =r  . \\\\\n",
    "\\end{aligned}\n",
    "\n",
    "\n",
    "We consider the Euler first order integration to discretize the model. \n",
    "\n",
    "The actual control input of the vehicle is the traction force $F_w$ and steering angle $\\delta$, which implicitly appears in the vehicle dynamics via the tire force $F_{x_f}$, $F_{y_f}$, $F_{x_r}$ and $F_{y_r}$. \n",
    "\n",
    "For more details of the **traction force model** and **tire force model**, please refer to the notebook of **Example - 4** and the **car simulator**.  "
   ]
  },
  {
   "cell_type": "markdown",
   "id": "9594a2ef",
   "metadata": {},
   "source": [
    "## Model parameter\n",
    "\n",
    "The following charts illustrate the model parameters, with actual values provided in **utils.py** in the **param** variable.\n",
    "\n",
    "![Param](Param.png)\n",
    "\n",
    "\n",
    "Laurense, V.A. and Gerdes, J.C., 2021. Long-horizon vehicle motion planning and control through serially cascaded model complexity. IEEE Transactions on Control Systems Technology, 30(1), pp.166-179."
   ]
  },
  {
   "cell_type": "markdown",
   "id": "644e304c",
   "metadata": {},
   "source": [
    "## Modified tire model for control and optimization\n",
    "\n",
    "The brush tire model saturated when the slip angle is greater than the threshold. Such saturated region will result in zero gradient, which is harmful for optimization. \n",
    "\n",
    "To solve the problem, we introduce the modified tire model for control, such that the tire forces will not saturated. \n",
    "\n",
    "We consider the modified maximal lateral tire force:\n",
    "$$\n",
    "\\tilde{F}^{\\max}_{y} = \\sqrt{(\\mu F_z)^2 - (0.99\\tilde{F}_x)^2 }\n",
    "$$\n",
    "We here add an additional coefficient $0.99$ to avoid exceeding the firction limits. \n",
    "\n",
    "Then we introduce an variable $\\xi$ and define the modified slide sliping angle:\n",
    "\n",
    "$$\n",
    "\\alpha^{mod} = \\arctan{\\left( \\frac{3F_y^{\\max}\\xi }{C_{\\alpha}} \\right)}. \n",
    "$$\n",
    "\n",
    "Finally, we have the modified brush tire model for control:\n",
    "\n",
    "\\begin{aligned}\n",
    "\\tilde{F}_y&=\\left\\{\\begin{array}{l}\n",
    "-C_\\alpha \\tan \\alpha\n",
    "+\\frac{C_\\alpha^2}{3 \\tilde{F}_y^{\\max }}|\\tan \\alpha| \\tan \\alpha\n",
    "-\\frac{C_\\alpha^3}{27\\left(\\tilde{F}_y^{\\max }\\right)^2} \\tan ^3 \\alpha\n",
    "-C_\\alpha\\left(1-2 \\xi+\\xi^2\\right) \\tan \\alpha \\quad \\text { if }|\\alpha| \\leq \\alpha^{\\bmod } \\\\\n",
    "\n",
    "-\\tilde{F}_y^{\\max }\\left(3 \\xi^2-2 \\xi^3\\right) \\operatorname{sgn} \\alpha \\quad \\text { otherwise }\n",
    "\\end{array}\\right. \\\\\n",
    "& =\\tilde{f}_{\\text {tire }}\\left(\\alpha, F_z, F_x\\right) \\text {. } \\\\\n",
    "&\n",
    "\\end{aligned}\n",
    "\n",
    "We let $\\xi$ be $0.85$ and provides the plot for comparison with the brush tire model. The dashed lines are the brush tire model without the modification. \n"
   ]
  },
  {
   "cell_type": "code",
   "execution_count": 1,
   "id": "9d6a8dac",
   "metadata": {},
   "outputs": [],
   "source": [
    "%load_ext autoreload\n",
    "%autoreload 2\n",
    "\n",
    "import numpy as np\n",
    "import matplotlib.pyplot as plt\n",
    "from utils import tire_model_sim, tire_model_ctrl, param"
   ]
  },
  {
   "cell_type": "code",
   "execution_count": null,
   "id": "ddb518d0",
   "metadata": {},
   "outputs": [],
   "source": [
    "Fx = 0.0\n",
    "alpha = np.linspace(-0.4, 0.4, 100)\n",
    "\n",
    "plt.figure(figsize=(10, 6))\n",
    "\n",
    "Fy = tire_model_sim(alpha, 1000 * 9.81, 0, param[\"C_alpha_f\"], param[\"mu_f\"])\n",
    "plt.plot(np.rad2deg(alpha), Fy / 1000, \"r--\", label = \"$F_x = 0$\")\n",
    "\n",
    "Fy = tire_model_ctrl(alpha, 1000 * 9.81, 0, param[\"C_alpha_f\"], param[\"mu_f\"])\n",
    "plt.plot(np.rad2deg(alpha), Fy / 1000, \"r-\",  label = \"$F_x = 0$ modified model\")\n",
    "\n",
    "Fy = tire_model_sim(alpha, 1000 * 9.81, 6000, param[\"C_alpha_f\"], param[\"mu_f\"])\n",
    "plt.plot(np.rad2deg(alpha), Fy / 1000, \"b--\", label = \"$F_x = 6k$\")\n",
    "\n",
    "Fy = tire_model_ctrl(alpha, 1000 * 9.81, 6000, param[\"C_alpha_f\"], param[\"mu_f\"])\n",
    "plt.plot(np.rad2deg(alpha), Fy / 1000, \"b-\",  label = \"$F_x = 6k$ modified model\")\n",
    "\n",
    "Fy = tire_model_sim(alpha, 1000 * 9.81, 1000 * 9.81 * param[\"mu_f\"], param[\"C_alpha_f\"], param[\"mu_f\"])\n",
    "plt.plot(np.rad2deg(alpha), Fy / 1000, \"g--\", label = \"$F_x = \\mu F_z$\")\n",
    "\n",
    "Fy = tire_model_ctrl(alpha, 1000 * 9.81, 1000 * 9.81 * param[\"mu_f\"], param[\"C_alpha_f\"], param[\"mu_f\"])\n",
    "plt.plot(np.rad2deg(alpha), Fy / 1000, \"g-\", label = \"$F_x = \\mu F_z$ modified model\")\n",
    "\n",
    "plt.ylabel(\"$F_y$ (KN)\")\n",
    "plt.xlabel(\"alpha (deg)\")\n",
    "plt.legend()\n",
    "plt.grid(\"on\")"
   ]
  },
  {
   "cell_type": "markdown",
   "id": "7844de4f",
   "metadata": {},
   "source": [
    "## Nonlinear Model Predictive Control\n",
    "\n",
    "Let the state of the car be\n",
    "\n",
    "$$\n",
    "s_k:= \\left[U_{x,k}, U_{y,k}, r_k, x_k, y_k, \\phi_k \\right], k = 0, 1, \\dots, N. \n",
    "$$\n",
    "\n",
    "Let the control input of the car be \n",
    "\n",
    "$$\n",
    "u_k:= \\left[ F_{x, k}, \\delta_{k} \\right], k = 0, 1, \\dots, N-1.\n",
    "$$\n",
    "\n",
    "We introduce four auxiliary variable for each step:\n",
    "\n",
    "$$\n",
    "z_k:=\\left[F_{y_f, k}, F_{y_r, k}, z_{\\mu_f}, z_{\\mu_r}\\right], k = 0, 1, \\dots, N-1.\n",
    "$$\n",
    "\n",
    "The first two variables will be used to enforce the tire force constraints, which means $F_{y_f, k}$ and $F_{y_r, k}$ will be explicit variables and related to traction force $F_x$ and steering angle $\\delta$ via tire model. The last two will be used to slack the friction cone constraints. \n",
    "\n",
    "The reason of introducing auxiliary variables is that more variable sometimes results in less nonlinearity. \n",
    "\n",
    "Thus the NMPC problem will take the form:\n",
    "\n",
    "$$\n",
    "    \\begin{aligned}\n",
    "    J_0^{*}(s_{init}) = \\min_{s_k, u_k, z_k} & \\ p(s_N) + \\sum_{k=0}^{N-1} q(s_k, u_k, z_k)\\\\ \n",
    "    \\text{s.t. } \n",
    "                %  & x_{k+1} =  \\ k = 0, \\dots, N-1, \\\\\n",
    "                & s_{k+1} = f(s_k, u_k, z_k), k = 0, \\dots, N-1, \\\\\n",
    "                & 0=TireModel(s_k, u_k, z_k), \\\\\n",
    "                & FrictionCone(s_k, z_k, u_k) \\le 0, \\\\\n",
    "                & OtherConstraints(s_k, z_k, u_k) \\le 0, \\\\\n",
    "                & u_{\\min} \\le u_k \\le u_{\\max}, \\\\\n",
    "                & x_0 = x_{init}. \n",
    "    \\end{aligned}\n",
    "$$"
   ]
  },
  {
   "cell_type": "markdown",
   "id": "df496ef4",
   "metadata": {},
   "source": [
    "## Detail of constraints\n",
    "### 1. Friction cone constraints:\n",
    "\n",
    "We introduce the slacked friction cone constraints:\n",
    "\n",
    "$$ F_{y_f, k}^2 + F_{x_f, k}^2 \\le (\\mu_f F_{z_f, k})^2 + z_{\\mu_f}^2  $$\n",
    "$$ F_{y_r, k}^2 + F_{x_r, k}^2 \\le (\\mu_r F_{z_r, k})^2 + z_{\\mu_r}^2  $$\n",
    "\n",
    "\n",
    "### 2. Obstacle avoidance:\n",
    "\n",
    "The car should avoid colliding with the sphere obstacle:\n",
    "\n",
    "$$ \\left(\\frac{x_k - 500}{10}\\right)^2 + \\left(\\frac{y_k}{10}\\right)^2 \\ge 1  $$\n",
    "\n",
    "### 3. Input constraints:\n",
    "\n",
    "Steering angle can not exceed the maximal value:\n",
    "$$-\\delta_{\\max} \\le \\delta_k \\le \\delta_{\\max}$$\n",
    "\n",
    "Traction force can not exceed the engine power constraints:\n",
    "$$ F_x \\le \\frac{P_{eng}}{U_x }$$\n",
    "\n",
    "### 4. Positive longitudinal speed\n",
    "\n",
    "We do not want to drive in reverse:\n",
    "\n",
    "$$ U_x \\ge 2 $$"
   ]
  },
  {
   "cell_type": "markdown",
   "id": "a0114ac7",
   "metadata": {},
   "source": [
    "## Cost function design\n",
    "\n",
    "Consider these goals when designing your cost function:\n",
    "\n",
    "### 1. Stay close to the \"lane\"\n",
    "\n",
    "Design a cost function to encourage the car to approach the lane: $y_k \\rightarrow 0$. \n",
    "\n",
    "### 2. Stabilize the yaw angle:\n",
    "\n",
    "Design a cost function to encourage the car to maintain zero yaw angle: $\\phi_k \\rightarrow 0$. \n",
    "\n",
    "### 3. Drive fast / far:\n",
    "\n",
    "Design a cost function to encourage the car to drive as fast as possible, i.e. $U_x \\rightarrow +\\infty$ and $x \\rightarrow +\\infty$\n",
    "\n",
    "### 4. Avoid tire saturation:\n",
    "\n",
    "Design a cost function to encourage the slip angle be smaller than the modified slip angle: \n",
    "\n",
    "$$\n",
    "J_\\alpha=W_\\alpha \\sum_{k=1}^N \\begin{cases}\\left(\\left| \\alpha_{k}\\right|- \\alpha_{k}^{\\bmod }\\right)^2, & \\text { if }\\left| \\alpha_{k}\\right| \\geq \\alpha_{k}^{\\bmod } \\\\ 0, & \\text { otherwise. }\\end{cases}\n",
    "$$\n",
    "\n",
    "where $W_{\\alpha}$ is a large weight. Add this cost using the **ca.if_else()** function. The $\\alpha^{mod}$ is the modified slide slipping angle. \n",
    "\n",
    "### 5. Penalize the slack variable of friction cone constraints:\n",
    "\n",
    "Add a large weight to $z_{\\mu_{f}}^2$ and $z_{\\mu_{r}}^2$. "
   ]
  },
  {
   "cell_type": "markdown",
   "id": "1fa11778",
   "metadata": {},
   "source": [
    "## Submission\n",
    "\n",
    "You are required to implement the controller on $2$ known test cases.\n",
    "\n",
    "- Controller: Please complete the function **nmpc_controller()** in **nmpc_dragracing.py** and submit the file.\n",
    "- Initial guess for warm-start:\n",
    "  - Please submit the initial guess of the your NMPC solver for warm-start, i.e. the **\\*.mat** files. You are supposed to compute it offline for as long as you wish untill convergence. \n",
    "  - We have provided examples of initial guesses for the five test cases. However, you need to compute these **\\*.mat** file based on your own controller.\n",
    "\n",
    "## Evaluation\n",
    "\n",
    "- We will evaluate the closed-loop trajectory based on the distance traveled in the $x$ direction and the deviation in $y$ direction. \n",
    "- Larger distance in $x$ direction and less deviation from $y$ will lead to higher score. \n",
    "- Collision with obstacle will result in large penalty.\n",
    "\n",
    "## Remark\n",
    "\n",
    "- In runtime, the NMPC is not required to converge to optimal value. We set **ipopt.max_iter=100** to ensure the simulation time is reasonable. The GSI code took less than $2$ minutes to complete the simulation for each test case. \n",
    "\n",
    "- As long as the NMPC is **feasible**, a suboptimal solution can still stabilize the system as long as the suboptimality is not too big. "
   ]
  },
  {
   "cell_type": "markdown",
   "id": "ec72984b",
   "metadata": {},
   "source": [
    "## Code start"
   ]
  },
  {
   "cell_type": "code",
   "execution_count": 2,
   "id": "0ffe2b5c",
   "metadata": {},
   "outputs": [],
   "source": [
    "%load_ext autoreload\n",
    "%autoreload 2\n",
    "\n",
    "import numpy as np\n",
    "import scipy.io\n",
    "import casadi as ca\n",
    "from nmpc_dragracing import nmpc_controller"
   ]
  },
  {
   "cell_type": "markdown",
   "id": "ac748e95",
   "metadata": {},
   "source": [
    "### Get an NMPC controller"
   ]
  },
  {
   "cell_type": "code",
   "execution_count": 3,
   "id": "342a9b93",
   "metadata": {},
   "outputs": [],
   "source": [
    "## build a controller \n",
    "prob, N_mpc, n_x, n_g, n_p, lb_var, ub_var, lb_cons, ub_cons = nmpc_controller(None)"
   ]
  },
  {
   "cell_type": "markdown",
   "id": "f3573a50",
   "metadata": {},
   "source": [
    "### Compute the solution for initial condition\n",
    "\n",
    "- To ensure that the autograder will converge in a reasonable time, we will use some initial conditions to warm start the solver.\n",
    "- The testcases used in the autograder is provided in init_table, where each row is a test case.\n",
    "- You are supposed to compute the solution of your NMPC controller for each initial conditions and save it as a **case_{index}.mat** file.\n",
    "- Change *use_test_case* to 0 or 1. Only test one test case at a time.\n",
    "- Start from one of the examples **case_{index}_example.mat** or random values. Once you have obtained the initial guess for one of the test cases, you can reuse it for other cases."
   ]
  },
  {
   "cell_type": "code",
   "execution_count": null,
   "id": "c8d3d661",
   "metadata": {},
   "outputs": [],
   "source": [
    "## random initialization\n",
    "# x0_nlp    = np.random.randn(n_x, 1) * 0.025\n",
    "# lamx0_nlp = np.random.randn(n_x, 1) * 0.025\n",
    "# lamg0_nlp = np.random.randn(n_g, 1) * 0.025\n",
    "\n",
    "## Once you have a solution, you can use it as initial guess for other cases\n",
    "## initialization using known solution\n",
    "initial_guess = scipy.io.loadmat(\"case_1_example.mat\")\n",
    "x0_nlp = initial_guess[\"x0_nlp\"]\n",
    "lamx0_nlp = initial_guess[\"lamx0_nlp\"]\n",
    "lamg0_nlp = initial_guess[\"lamg0_nlp\"]\n",
    "\n",
    "use_test_case = 0 # TODO: test one test case at a time\n",
    "init_table = np.array([\n",
    "    [50.0, 0.0, 0.0, 0.0, 0.0,  0.0],\n",
    "    [30.0, 0.0, 0.0, 0.0, 50.0, 0.3],\n",
    "])\n",
    "init = init_table[use_test_case, :]\n",
    "file_name = 'case_'+str(use_test_case)+'.mat'\n",
    "\n",
    "## run sufficiently long time to ensure the solver converges to optimal value\n",
    "opts = {'ipopt.max_iter':3000}\n",
    "\n",
    "solver = ca.nlpsol('solver', 'ipopt', prob , opts)\n",
    "sol = solver(x0=x0_nlp, lam_x0=lamx0_nlp, lam_g0=lamg0_nlp,\n",
    "                     lbx=lb_var, ubx=ub_var, lbg=lb_cons, ubg=ub_cons, p=init)"
   ]
  },
  {
   "cell_type": "markdown",
   "id": "94da128f",
   "metadata": {},
   "source": [
    "### Compare the solution after warm-start\n",
    "\n",
    "You can find the solver is fast if the initial guess is properly provided. \n",
    "\n",
    "Save the initial guess for submission and your simulations. "
   ]
  },
  {
   "cell_type": "code",
   "execution_count": null,
   "id": "e105672f",
   "metadata": {},
   "outputs": [],
   "source": [
    "## you will see how fast the solver is if it is initialized properly\n",
    "x0_nlp    = sol[\"x\"].full()\n",
    "lamx0_nlp = sol[\"lam_x\"].full()\n",
    "lamg0_nlp = sol[\"lam_g\"].full() # np.zeros((n_g, 1))\n",
    "sol = solver(x0=x0_nlp, lam_x0=lamx0_nlp, lam_g0=lamg0_nlp,\n",
    "                     lbx=lb_var, ubx=ub_var, lbg=lb_cons, ubg=ub_cons, p=init)\n",
    "\n",
    "## save the initial guess if you are satisfied\n",
    "scipy.io.savemat(file_name, {'x0_nlp': x0_nlp, \"lamx0_nlp\": lamx0_nlp, \"lamg0_nlp\": lamg0_nlp})"
   ]
  },
  {
   "cell_type": "code",
   "execution_count": 19,
   "id": "b75d55e7",
   "metadata": {},
   "outputs": [],
   "source": [
    "## You can plot the solution here to see if it is reasonable. \n",
    "\n",
    "# u = sol[\"x\"].full()[0:N_mpc * 2]\n",
    "# x = sol[\"x\"].full()[N_mpc * 2:N_mpc * 2 + (N_mpc + 1) * 6]"
   ]
  },
  {
   "cell_type": "markdown",
   "id": "5d87e942",
   "metadata": {},
   "source": [
    "### Retrieve the initial solutions for simulation. \n",
    "\n",
    "If you already have the initial solutions, you can start from this block to retrieve them. "
   ]
  },
  {
   "cell_type": "code",
   "execution_count": null,
   "id": "593450e5",
   "metadata": {},
   "outputs": [],
   "source": [
    "%load_ext autoreload\n",
    "%autoreload 2\n",
    "\n",
    "import numpy as np\n",
    "import scipy.io\n",
    "from utils import plot_results\n",
    "from sim import GetCarModel, SimVehicle\n",
    "from nmpc_dragracing import nmpc_controller\n",
    "\n",
    "## test the controller with different inirial states and guesses\n",
    "use_test_case = 0 # TODO: test one test case at a time\n",
    "init_table = np.array([\n",
    "    [50.0, 0.0, 0.0, 0.0, 0.0,  0.0],\n",
    "    [30.0, 0.0, 0.0, 0.0, 50.0, 0.3],\n",
    "])\n",
    "init = init_table[use_test_case, :]\n",
    "file_name = 'case_'+str(use_test_case)+'.mat'\n",
    "\n",
    "initial_guess = scipy.io.loadmat(file_name)\n",
    "x0_nlp = initial_guess[\"x0_nlp\"]\n",
    "lamx0_nlp = initial_guess[\"lamx0_nlp\"]\n",
    "lamg0_nlp = initial_guess[\"lamg0_nlp\"]"
   ]
  },
  {
   "cell_type": "markdown",
   "id": "99960dff",
   "metadata": {},
   "source": [
    "### Simulation start! \n",
    "\n",
    "We will simulate the vehicle for 30 secs. \n",
    "\n",
    "As we are using fixed-step RK simulator and limits the maximal iteration for IPOPT, the simulation time is controllable. "
   ]
  },
  {
   "cell_type": "code",
   "execution_count": 13,
   "id": "9b1550a8",
   "metadata": {},
   "outputs": [],
   "source": [
    "## build a car simulator\n",
    "## The car will be driving for 30 secs\n",
    "## The control rate is 10 HZ.\n",
    "T_sim  = 30\n",
    "dt_ctrl = 0.1\n",
    "rk_interval = 10\n",
    "N_sim = int(np.ceil(T_sim / dt_ctrl))\n",
    "integrator, car_dynamics = GetCarModel(None, ts = np.linspace(0, dt_ctrl, rk_interval), ode = \"rk\")\n",
    "sim_time = np.linspace(0, T_sim, N_sim * (rk_interval - 1) + 1)"
   ]
  },
  {
   "cell_type": "code",
   "execution_count": null,
   "id": "e82b6a61",
   "metadata": {},
   "outputs": [],
   "source": [
    "y0 = np.reshape(init, (6, 1))\n",
    "is_silent = True # change this to False if you want to see all errors and warnings\n",
    "x_log, u_log, tire_force_log = SimVehicle(y0, nmpc_controller, integrator, car_dynamics, N_sim, True, x0_nlp, lamx0_nlp, lamg0_nlp, is_silent)"
   ]
  },
  {
   "cell_type": "markdown",
   "id": "539f1382",
   "metadata": {},
   "source": [
    "### Trajectory\n",
    "\n",
    "You are supposed to avoid the obstacle, while trying to keep $y = 0$ and reach larger $x$. "
   ]
  },
  {
   "cell_type": "code",
   "execution_count": null,
   "id": "fb19ba96",
   "metadata": {},
   "outputs": [],
   "source": [
    "print(\"Distance traveled in x direction:\")\n",
    "print(np.max(x_log[3, :]))\n",
    "\n",
    "print(\"Deviation in y direction:\")\n",
    "print(np.sqrt(np.mean(x_log[4,:]**2)))"
   ]
  },
  {
   "cell_type": "code",
   "execution_count": null,
   "id": "32b94816",
   "metadata": {},
   "outputs": [],
   "source": [
    "plot_results(T_sim, sim_time, x_log, u_log, tire_force_log)"
   ]
  }
 ],
 "metadata": {
  "kernelspec": {
   "display_name": "base",
   "language": "python",
   "name": "python3"
  },
  "language_info": {
   "codemirror_mode": {
    "name": "ipython",
    "version": 3
   },
   "file_extension": ".py",
   "mimetype": "text/x-python",
   "name": "python",
   "nbconvert_exporter": "python",
   "pygments_lexer": "ipython3",
   "version": "3.9.19"
  }
 },
 "nbformat": 4,
 "nbformat_minor": 5
}
