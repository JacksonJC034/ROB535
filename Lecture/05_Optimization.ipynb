{
 "cells": [
  {
   "cell_type": "markdown",
   "id": "a96f3b67",
   "metadata": {},
   "source": [
    "# Nonlinear Optimization Examples\n",
    "\n",
    "## Example 1: Unconstrained Nonlinear Optimization\n",
    "\n",
    "In this example, we will minimize the Rosenbrock function, a common test problem for optimization algorithms.\n",
    "\n",
    "The Rosenbrock function is defined as:\n",
    "\n",
    "$ f(x, y) = (a - x)^2 + b(y - x^2)^2 $\n",
    "\n",
    "We will minimize this function using the BFGS method."
   ]
  },
  {
   "cell_type": "code",
   "execution_count": 1,
   "id": "5befe441",
   "metadata": {},
   "outputs": [
    {
     "name": "stdout",
     "output_type": "stream",
     "text": [
      "Optimal parameters: [0.99999467 0.99998932]\n",
      "Function value at optimum: 2.8440316101421118e-11\n"
     ]
    }
   ],
   "source": [
    "import numpy as np\n",
    "from scipy.optimize import minimize\n",
    "\n",
    "# Define the Rosenbrock function\n",
    "def rosenbrock(x):\n",
    "    a = 1\n",
    "    b = 100\n",
    "    return (a - x[0])**2 + b * (x[1] - x[0]**2)**2\n",
    "\n",
    "# Initial guess\n",
    "x0 = np.array([0, 0])\n",
    "\n",
    "# Perform the optimization\n",
    "result = minimize(rosenbrock, x0, method='BFGS')\n",
    "print('Optimal parameters:', result.x)\n",
    "print('Function value at optimum:', result.fun)"
   ]
  },
  {
   "cell_type": "markdown",
   "id": "d96cc9a0",
   "metadata": {},
   "source": [
    "## What `scipy.optimize.minimize` Does\n",
    "\n",
    "The `scipy.optimize.minimize` function is a versatile and powerful tool for performing optimization in Python. It is used to minimize a scalar function of one or more variables. Below are some features and limitations of this function:\n",
    "\n",
    "### Capabilities\n",
    "- **Support for Different Methods:**\n",
    "  - `BFGS`, `CG`, `L-BFGS-B`, `Newton-CG`, `TNC`, `SLSQP`, and more.\n",
    "- **Support for Constraints:**\n",
    "  - Equality and inequality constraints.\n",
    "- **Support for Bounds:**\n",
    "  - Variable bounds for unconstrained optimization.\n",
    "- **Gradient and Hessian:**\n",
    "  - Option to provide custom gradient (Jacobian) and Hessian.\n",
    "- **Initial Guess:**\n",
    "  - Allows specifying an initial guess for the variables.\n",
    "\n",
    "### Limitations\n",
    "- **Global vs. Local Minima:**\n",
    "  - It finds a local minimum, which may not be the global minimum.\n",
    "- **Convergence:**\n",
    "  - May require good initial guesses for convergence.\n",
    "- **Non-Differentiable Functions:**\n",
    "  - Performance may degrade with non-differentiable or highly nonlinear functions.\n",
    "\n",
    "### Documentation\n",
    "For more details, refer to the [official SciPy documentation](https://docs.scipy.org/doc/scipy/reference/generated/scipy.optimize.minimize.html).\n",
    "\n",
    "## Introduction to BFGS\n",
    "\n",
    "The Broyden–Fletcher–Goldfarb–Shanno (BFGS) method is one of the most widely used algorithms for unconstrained optimization. It belongs to the family of quasi-Newton methods. Here are some key points:\n",
    "\n",
    "### How BFGS Works\n",
    "- **Objective:**\n",
    "  - To find the minimum of a differentiable scalar function.\n",
    "- **Approach:**\n",
    "  - It approximates the Hessian matrix of the second derivatives of the function.\n",
    "  - The approximation is updated iteratively using gradient information.\n",
    "- **Efficiency:**\n",
    "  - Suitable for medium to large-scale problems due to its good balance between robustness and performance.\n",
    "\n",
    "### Advantages\n",
    "- **Convergence:**\n",
    "  - Superlinear convergence rate.\n",
    "- **Robustness:**\n",
    "  - Performs well with noisy gradients.\n",
    "- **No Exact Hessian Required:**\n",
    "  - Does not require computation of second derivatives.\n",
    "\n",
    "### Disadvantages\n",
    "- **Memory Requirements:**\n",
    "  - Can be memory-intensive for large-scale problems.\n",
    "\n",
    "### References\n",
    "- For more theoretical and practical insights, see:\n",
    "  - Nocedal, J., & Wright, S. J. (2006). Numerical Optimization. Springer.\n",
    "  - [Wikipedia Page on BFGS](https://en.wikipedia.org/wiki/BFGS_method)\n",
    "- For a practical guide, refer to the [SciPy documentation on BFGS](https://docs.scipy.org/doc/scipy/reference/optimize.minimize-bfgs.html)."
   ]
  },
  {
   "cell_type": "markdown",
   "id": "feb76309",
   "metadata": {},
   "source": [
    "## Example 2: Constrained Nonlinear Optimization\n",
    "\n",
    "In this example, we will minimize a nonlinear function subject to some constraints.\n",
    "\n",
    "We want to minimize $f(x, y) = x^2 + y^2$ subject to the constraint $x + y = 1$.\n",
    "\n",
    "The optimization problem is:\n",
    "\n",
    "\n",
    "\\begin{align*}\n",
    "\\text{Minimize} \\quad & f(x, y) = x^2 + y^2 \\\\\n",
    "\\text{Subject to} \\quad & x + y = 1\n",
    "\\end{align*}\n",
    "\n",
    "We will solve this using the SLSQP (Sequential Least Squares Programming) method."
   ]
  },
  {
   "cell_type": "code",
   "execution_count": 2,
   "id": "3a85ee46",
   "metadata": {},
   "outputs": [
    {
     "name": "stdout",
     "output_type": "stream",
     "text": [
      "Optimal parameters: [0.5 0.5]\n",
      "Function value at optimum: 0.5\n"
     ]
    }
   ],
   "source": [
    "from scipy.optimize import minimize\n",
    "\n",
    "# Define the objective function\n",
    "def objective(x):\n",
    "    return x[0]**2 + x[1]**2\n",
    "\n",
    "# Define the constraint\n",
    "def constraint(x):\n",
    "    return x[0] + x[1] - 1\n",
    "\n",
    "# Initial guess\n",
    "x0 = np.array([0.5, 0.5])\n",
    "\n",
    "# Set up the constraints dictionary\n",
    "con = {'type': 'eq', 'fun': constraint}\n",
    "\n",
    "# Perform the optimization\n",
    "result = minimize(objective, x0, method='SLSQP', constraints=[con])\n",
    "print('Optimal parameters:', result.x)\n",
    "print('Function value at optimum:', result.fun)"
   ]
  },
  {
   "cell_type": "markdown",
   "id": "34e9813d",
   "metadata": {},
   "source": [
    "## Understanding Constraints in `scipy.optimize.minimize` and SLSQP\n",
    "\n",
    "### Understanding Constraints in `scipy.optimize.minimize`\n",
    "\n",
    "Constraints in optimization are conditions that the solution must satisfy. `scipy.optimize.minimize` supports two types of constraints:\n",
    "\n",
    "- **Equality constraints:** $c(x) = 0 $\n",
    "- **Inequality constraints:** $c(x) \\geq 0 $\n",
    "\n",
    "Constraints can be defined using dictionaries specifying the type and the function representing the constraint.\n",
    "\n",
    "#### Documentation\n",
    "\n",
    "For more details, refer to the [official SciPy documentation on constraints](https://docs.scipy.org/doc/scipy/reference/generated/scipy.optimize.minimize.html).\n",
    "\n",
    "### Introduction to SLSQP\n",
    "\n",
    "The Sequential Least Squares Programming (SLSQP) method is a gradient-based optimization algorithm used for nonlinear constrained optimization problems. Here's a brief overview:\n",
    "\n",
    "#### How SLSQP Works\n",
    "\n",
    "**Objective:**\n",
    "It aims to minimize or maximize a function subject to equality and inequality constraints.\n",
    "\n",
    "**Approach:**\n",
    "Approximates the problem using quadratic programming.\n",
    "Solves sequences of approximations to find the optimal solution.\n",
    "\n",
    "#### Advantages\n",
    "\n",
    "- **Versatile:**\n",
    "  Can handle a wide range of constraints.\n",
    "- **Efficient:**\n",
    "  Often faster for small to medium-sized problems with constraints.\n",
    "\n",
    "#### Disadvantages\n",
    "\n",
    "- **Sensitivity to Initial Guess:**\n",
    "  May require a good initial guess for convergence.\n",
    "- **Local Minima:**\n",
    "  Like other gradient-based methods, it may converge to local minima.\n",
    "\n",
    "#### References\n",
    "\n",
    "For more details, see:\n",
    "- [Official SciPy documentation on SLSQP](https://docs.scipy.org/doc/scipy/reference/optimize.minimize-slsqp.html)."
   ]
  },
  {
   "cell_type": "markdown",
   "id": "330fcee0",
   "metadata": {},
   "source": [
    "## Example 3: Nonlinear Optimization with Bounds\n",
    "\n",
    "In this example, we will minimize $f(x, y) = (x-1)^2 + (y-1.5)^2$ with bounds on the variables $x$ and $y$.\n",
    "\n",
    "The optimization problem is:\n",
    "\n",
    "\\begin{align*}\n",
    "\\text{Minimize} \\quad & f(x, y) = (x - 1)^2 + (y - 1.5)^2 \\\\\n",
    "\\text{Subject to} \\quad & 0 \\le x \\le 2 \\\\\n",
    "& 0 \\le y \\le 3\n",
    "\\end{align*}\n",
    "\n",
    "We will solve this using the L-BFGS-B (Limited-memory Broyden–Fletcher–Goldfarb–Shanno with Box constraints) method."
   ]
  },
  {
   "cell_type": "code",
   "execution_count": 3,
   "id": "5bca234e",
   "metadata": {},
   "outputs": [
    {
     "name": "stdout",
     "output_type": "stream",
     "text": [
      "Optimal parameters: [1.  1.5]\n",
      "Function value at optimum: 4.9947937063333915e-17\n"
     ]
    }
   ],
   "source": [
    "from scipy.optimize import minimize\n",
    "\n",
    "# Define the objective function\n",
    "def objective(x):\n",
    "    return (x[0] - 1)**2 + (x[1] - 1.5)**2\n",
    "\n",
    "# Initial guess\n",
    "x0 = np.array([0, 0])\n",
    "\n",
    "# Set up the bounds\n",
    "bounds = [(0, 2), (0, 3)]\n",
    "\n",
    "# Perform the optimization\n",
    "result = minimize(objective, x0, method='L-BFGS-B', bounds=bounds)\n",
    "print('Optimal parameters:', result.x)\n",
    "print('Function value at optimum:', result.fun)"
   ]
  },
  {
   "cell_type": "markdown",
   "id": "af31cf0d",
   "metadata": {},
   "source": [
    "# Understanding Bounds in `scipy.optimize.minimize` and L-BFGS-B\n",
    "\n",
    "## Understanding Bounds in `scipy.optimize.minimize`\n",
    "\n",
    "Bounds are constraints that limit the range of the variables. In `scipy.optimize.minimize`, bounds are specified as a sequence of tuples, where each tuple defines the lower and upper bound for a variable.\n",
    "\n",
    "### Documentation\n",
    "\n",
    "For more details, refer to the [official SciPy documentation on bounds](https://docs.scipy.org/doc/scipy/reference/generated/scipy.optimize.minimize.html).\n",
    "\n",
    "## Introduction to L-BFGS-B\n",
    "\n",
    "The Limited-memory Broyden–Fletcher–Goldfarb–Shanno with Box constraints (L-BFGS-B) method is an extension of the BFGS method that can handle bound constraints on the variables efficiently.\n",
    "\n",
    "### How L-BFGS-B Works\n",
    "\n",
    "- **Objective:**\n",
    "  To find the minimum of a differentiable scalar function with bound constraints.\n",
    "- **Approach:**\n",
    "  Uses a limited-memory version of BFGS.\n",
    "  Incorporates bound constraints during the iterative process.\n",
    "\n",
    "### Advantages\n",
    "\n",
    "- **Memory Efficient:**\n",
    "  Suitable for large-scale optimization problems.\n",
    "- **Handles Bound Constraints:**\n",
    "  Efficiently handles variables with upper and lower bounds.\n",
    "\n",
    "### Disadvantages\n",
    "\n",
    "- **Gradient Information Required:**\n",
    "  Like BFGS, it requires gradient information.\n",
    "\n",
    "### References\n",
    "\n",
    "- **For more theoretical understanding, see:**\n",
    "  - Byrd, R. H., Lu, P., Nocedal, J., & Zhu, C. (1995). A Limited Memory Algorithm for Bound Constrained Optimization. SIAM Journal on Scientific Computing.\n",
    "  - [Wikipedia Page on L-BFGS](https://en.wikipedia.org/wiki/Limited-memory_BFGS).\n",
    "- **For practical use, refer to:**\n",
    "  - [Official SciPy documentation on L-BFGS-B](https://docs.scipy.org/doc/scipy/reference/optimize.minimize-lbfgsb.html)."
   ]
  },
  {
   "cell_type": "markdown",
   "id": "488f42ac",
   "metadata": {},
   "source": [
    "## Example 1: Solving a Linear Program\n",
    "\n",
    "In this example, we will solve a simple linear program. The goal is to minimize a linear objective function subject to linear inequality constraints.\n",
    "\n",
    "The optimization problem is:\n",
    "\n",
    "\\begin{align*}\n",
    "\\text{Minimize} \\quad & 3x + 2y \\\\\n",
    "\\text{Subject to} \\quad & x + y \\leq 4 \\\\\n",
    "& 2x - y \\leq 2 \\\\\n",
    "& x, y \\geq 0\n",
    "\\end{align*}"
   ]
  },
  {
   "cell_type": "code",
   "execution_count": 4,
   "id": "a49cb87b",
   "metadata": {},
   "outputs": [
    {
     "name": "stdout",
     "output_type": "stream",
     "text": [
      "(CVXPY) Sep 16 12:50:59 PM: Encountered unexpected exception importing solver GLOP:\n",
      "RuntimeError('Unrecognized new version of ortools (9.7.2996). Expected < 9.5.0.Please open a feature request on cvxpy to enable support for this version.')\n",
      "(CVXPY) Sep 16 12:50:59 PM: Encountered unexpected exception importing solver PDLP:\n",
      "RuntimeError('Unrecognized new version of ortools (9.7.2996). Expected < 9.5.0.Please open a feature request on cvxpy to enable support for this version.')\n",
      "Optimal value: 2.0291355587427553e-09\n",
      "Optimal x: 1.1398298385319745e-10\n",
      "Optimal y: 8.435933035915815e-10\n"
     ]
    }
   ],
   "source": [
    "import cvxpy as cp\n",
    "\n",
    "# Define the decision variables\n",
    "x = cp.Variable()\n",
    "y = cp.Variable()\n",
    "\n",
    "# Define the objective function\n",
    "objective = cp.Minimize(3 * x + 2 * y)\n",
    "\n",
    "# Define the constraints\n",
    "constraints = [\n",
    "    x + y <= 4,\n",
    "    2 * x - y <= 2,\n",
    "    x >= 0,\n",
    "    y >= 0\n",
    "]\n",
    "\n",
    "# Formulate the problem\n",
    "problem = cp.Problem(objective, constraints)\n",
    "\n",
    "# Solve the problem\n",
    "result = problem.solve()\n",
    "\n",
    "# Print the results\n",
    "print(\"Optimal value:\", result)\n",
    "print(\"Optimal x:\", x.value)\n",
    "print(\"Optimal y:\", y.value)"
   ]
  },
  {
   "cell_type": "markdown",
   "id": "0c0f33ff",
   "metadata": {},
   "source": [
    "## Example 2: Solving a Quadratic Program\n",
    "\n",
    "In this example, we will solve a quadratic program. The goal is to minimize a quadratic objective function subject to linear constraints.\n",
    "\n",
    "The optimization problem is:\n",
    "\n",
    "\\begin{align*}\n",
    "\\text{Minimize} \\quad & \\frac{1}{2}x^2 + y^2 \\\\\n",
    "\\text{Subject to} \\quad & x + y \\geq 1 \\\\\n",
    "& x \\leq 1 \\\\\n",
    "& y \\leq 1\n",
    "\\end{align*}"
   ]
  },
  {
   "cell_type": "code",
   "execution_count": 5,
   "id": "9afa34c6",
   "metadata": {},
   "outputs": [
    {
     "name": "stdout",
     "output_type": "stream",
     "text": [
      "Optimal value: 0.3333333333333333\n",
      "Optimal x: 0.6666666666666666\n",
      "Optimal y: 0.3333333333333333\n"
     ]
    }
   ],
   "source": [
    "import cvxpy as cp\n",
    "\n",
    "# Define the decision variables\n",
    "x = cp.Variable()\n",
    "y = cp.Variable()\n",
    "\n",
    "# Define the objective function\n",
    "objective = cp.Minimize(0.5 * cp.square(x) + cp.square(y))\n",
    "\n",
    "# Define the constraints\n",
    "constraints = [\n",
    "    x + y >= 1,\n",
    "    x <= 1,\n",
    "    y <= 1\n",
    "]\n",
    "\n",
    "# Formulate the problem\n",
    "problem = cp.Problem(objective, constraints)\n",
    "\n",
    "# Solve the problem\n",
    "result = problem.solve()\n",
    "\n",
    "# Print the results\n",
    "print(\"Optimal value:\", result)\n",
    "print(\"Optimal x:\", x.value)\n",
    "print(\"Optimal y:\", y.value)"
   ]
  },
  {
   "cell_type": "markdown",
   "id": "33f51da3",
   "metadata": {},
   "source": [
    "## Example 3: Solving a Semidefinite Program\n",
    "\n",
    "In this example, we will solve a semidefinite program. The goal is to minimize a linear objective function subject to a matrix being positive semidefinite.\n",
    "\n",
    "The optimization problem is:\n",
    "\n",
    "\\begin{align*}\n",
    "\\text{Minimize} \\quad & \\text{tr}(X) + \\text{tr}(Y) \\\\\n",
    "\\text{Subject to} \\quad & \\begin{bmatrix}\n",
    "X & A^T \\\\\n",
    "A & Y\n",
    "\\end{bmatrix} \\succeq 0\n",
    "\\end{align*}\n",
    "\n",
    "where $A$ is a given matrix."
   ]
  },
  {
   "cell_type": "code",
   "execution_count": 6,
   "id": "9a8c9037",
   "metadata": {},
   "outputs": [
    {
     "name": "stdout",
     "output_type": "stream",
     "text": [
      "Optimal value: 11.661872332529779\n",
      "Optimal X: [[2.05797444 2.40098219]\n",
      " [2.40098219 3.77296172]]\n",
      "Optimal Y: [[1.2004808  1.88648601]\n",
      " [1.88648601 4.63045536]]\n"
     ]
    }
   ],
   "source": [
    "import cvxpy as cp\n",
    "import numpy as np\n",
    "\n",
    "# Define the given matrix A\n",
    "A = np.array([[1, 2], [3, 4]])\n",
    "\n",
    "# Define the decision variables\n",
    "X = cp.Variable((2, 2), symmetric=True)\n",
    "Y = cp.Variable((2, 2), symmetric=True)\n",
    "\n",
    "# Define the objective function\n",
    "objective = cp.Minimize(cp.trace(X) + cp.trace(Y))\n",
    "\n",
    "# Define the semidefinite constraint\n",
    "constraints = [\n",
    "    cp.bmat([[X, A.T], [A, Y]]) >> 0\n",
    "]\n",
    "\n",
    "# Formulate the problem\n",
    "problem = cp.Problem(objective, constraints)\n",
    "\n",
    "# Solve the problem\n",
    "result = problem.solve()\n",
    "\n",
    "# Print the results\n",
    "print(\"Optimal value:\", result)\n",
    "print(\"Optimal X:\", X.value)\n",
    "print(\"Optimal Y:\", Y.value)"
   ]
  },
  {
   "cell_type": "markdown",
   "id": "922a4ccd",
   "metadata": {},
   "source": [
    "## Example 4: Solving a Logistic Regression Problem\n",
    "\n",
    "In this example, we will solve a logistic regression problem. The goal is to find the optimal weights for a logistic regression model.\n",
    "\n",
    "Given a dataset $(X, y)$ where $X$ is the feature matrix and $y$ is the label vector, the optimization problem is:\n",
    "\n",
    "\\begin{align*}\n",
    "\\text{Minimize} \\quad & \\sum_{i=1}^n \\log(1 + \\exp(-y_i (X_i w + b))) \\\\\n",
    "\\text{Subject to} \\quad & ||w||_2 \\leq \\lambda\n",
    "\\end{align*}"
   ]
  },
  {
   "cell_type": "code",
   "execution_count": 7,
   "id": "df43a8a3",
   "metadata": {},
   "outputs": [
    {
     "name": "stdout",
     "output_type": "stream",
     "text": [
      "Optimal value: 66.7286149500538\n",
      "Optimal w: [ 0.22883791  0.10138119  0.34956508  0.00604067 -0.0136736 ]\n",
      "Optimal b: -0.20286233001583415\n"
     ]
    }
   ],
   "source": [
    "import cvxpy as cp\n",
    "import numpy as np\n",
    "\n",
    "# Generate synthetic data\n",
    "np.random.seed(0)\n",
    "n, d = 100, 5\n",
    "X = np.random.randn(n, d)\n",
    "y = np.sign(np.random.randn(n))\n",
    "lambda_val = 1.0\n",
    "\n",
    "# Define the decision variables\n",
    "w = cp.Variable(d)\n",
    "b = cp.Variable()\n",
    "\n",
    "# Define the logistic loss function\n",
    "logistic_loss = cp.sum(cp.logistic(-cp.multiply(y, X @ w + b)))\n",
    "\n",
    "# Define the regularization term\n",
    "regularization = cp.norm(w, 2)\n",
    "\n",
    "# Define the objective function\n",
    "objective = cp.Minimize(logistic_loss + lambda_val * regularization)\n",
    "\n",
    "# Formulate the problem\n",
    "problem = cp.Problem(objective)\n",
    "\n",
    "# Solve the problem\n",
    "result = problem.solve()\n",
    "\n",
    "# Print the results\n",
    "print(\"Optimal value:\", result)\n",
    "print(\"Optimal w:\", w.value)\n",
    "print(\"Optimal b:\", b.value)"
   ]
  },
  {
   "cell_type": "markdown",
   "id": "b9086bde",
   "metadata": {},
   "source": [
    "# Linear regression with $l_2$-regularizer"
   ]
  },
  {
   "cell_type": "code",
   "execution_count": 8,
   "id": "5836d764-9b84-4356-b752-5cf687e02e62",
   "metadata": {
    "ExecuteTime": {
     "end_time": "2023-09-16T19:53:57.236238600Z",
     "start_time": "2023-09-16T19:53:57.236238600Z"
    }
   },
   "outputs": [],
   "source": [
    "import numpy as np\n",
    "import cvxpy as cp\n",
    "import matplotlib.pyplot as plt\n",
    "\n",
    "def basis(x1, x2):\n",
    "    \"\"\"compute basis (design) matrix\"\"\"\n",
    "    s = 1.75  # bandwidth (length-scale)\n",
    "    return np.exp((-(x1 - x2) ** 2) / (2 * s ** 2))\n",
    "\n",
    "# Linear regression with l2-regularizer\n",
    "#\n",
    "# Author: Fangtong Liu\n",
    "# Date: 06/13/2020\n",
    "# Author: Aaditya Gala\n",
    "# Date: 09/13/2023\n",
    "\n",
    "# create a dataset\n",
    "z = np.arange(0, 8.1, 0.1)\n",
    "y = np.exp(-0.1 * z) * np.cos(z)\n",
    "\n",
    "# pick some training points randomly\n",
    "N = 15  # number of training points\n",
    "idx = np.random.choice(np.arange(len(z)), N, replace=False)\n",
    "x = z[idx]  # training input\n",
    "t = y[idx] + 0.05 * np.random.randn(N, 1).reshape(-1)  # noisy target\n",
    "\n",
    "# here we solve for w in a linear model y = w^T * phi\n",
    "# compute basis (design) matrix\n",
    "xx, xy = np.meshgrid(x, x)\n",
    "Phi = basis(xx, xy)\n",
    "Phi = np.hstack([np.ones((N,1)), Phi])\n",
    "\n",
    "# solve for w using least squares with l_2 regularizer\n",
    "w = np.dot(Phi.T, Phi) + 0.1 * np.eye(Phi.shape[1])\n",
    "w = np.dot(np.linalg.inv(w), np.dot(Phi.T, t))\n",
    "\n",
    "# predict at arbitrary inputs\n",
    "xx, xy = np.meshgrid(z, x)\n",
    "Phi_test = basis(xx, xy)\n",
    "Phi_test = Phi_test.T\n",
    "Phi_test = np.hstack([np.ones((z.shape[0], 1)), Phi_test])\n",
    "\n",
    "y_test = np.dot(Phi_test, w)  # predict all at once"
   ]
  },
  {
   "cell_type": "code",
   "execution_count": 9,
   "id": "1204f990-04c3-43b7-93d3-c140f745688a",
   "metadata": {},
   "outputs": [
    {
     "data": {
      "image/png": "[encoded data removed]",
      "text/plain": [
       "<Figure size 640x480 with 1 Axes>"
      ]
     },
     "metadata": {},
     "output_type": "display_data"
    },
    {
     "data": {
      "image/png": "[encoded data removed]",
      "text/plain": [
       "<Figure size 640x480 with 1 Axes>"
      ]
     },
     "metadata": {},
     "output_type": "display_data"
    }
   ],
   "source": [
    "##################### plotting ##################\n",
    "# plot the true process and training points\n",
    "fig1 = plt.figure()\n",
    "plt.plot(z, y, linewidth=3, label='true process')\n",
    "plt.plot(x, t, '.', markersize=10, label='training points')\n",
    "plt.plot(z, y_test, '--', color='k', linewidth=3, label='prediction')\n",
    "plt.legend(loc='best')\n",
    "plt.xlabel(r'$x$')\n",
    "plt.ylabel(r'$y(x)$')\n",
    "plt.xlim([0, 8])\n",
    "plt.ylim([-1.25, 1.25])\n",
    "# fig1.savefig('lin_reg.png')\n",
    "plt.show()\n",
    "\n",
    "fig2 = plt.figure()\n",
    "plt.stem(w)\n",
    "plt.xlabel('basis')\n",
    "plt.ylabel('w')\n",
    "# fig2.savefig('lin_reg_w.png')\n",
    "plt.show()"
   ]
  },
  {
   "cell_type": "markdown",
   "id": "f8df875d",
   "metadata": {},
   "source": [
    "# Minimum Norm Convex Optimization"
   ]
  },
  {
   "cell_type": "code",
   "execution_count": 10,
   "id": "db2451bd-e51c-477f-85a5-9f627e7686ab",
   "metadata": {
    "ExecuteTime": {
     "start_time": "2023-09-16T19:53:58.446056800Z"
    }
   },
   "outputs": [],
   "source": [
    "# Minimum Norm Convex Optimization\n",
    "#\n",
    "# Author: Aaditya Gala\n",
    "# Date: 09/13/2023\n",
    "# Author: Maani Ghaffari\n",
    "# Date: 09/21/2023\n",
    "\n",
    "w_cvx = cp.Variable(Phi.shape[1])\n",
    "objective = cp.Minimize(cp.sum_squares(w_cvx))\n",
    "# objective = cp.Minimize(cp.pnorm(w_cvx, p=2)**2)\n",
    "# constraints = [Phi @ w_cvx == t]\n",
    "tol = 1e-1 # tolerance for imprecision\n",
    "constraints = [cp.abs(Phi @ w_cvx - t) <= tol]\n",
    "prob = cp.Problem(objective, constraints)\n",
    "\n",
    "# The optimal objective is returned by prob.solve().\n",
    "result = prob.solve(verbose=False)\n",
    "# The optimal value for w_cvx\n",
    "# print(w_cvx.value)\n",
    "# print(result)"
   ]
  },
  {
   "cell_type": "code",
   "execution_count": 7,
   "id": "d92de4244b606953",
   "metadata": {
    "ExecuteTime": {
     "end_time": "2023-09-16T19:53:58.461691100Z",
     "start_time": "2023-09-16T19:53:58.446056800Z"
    },
    "collapsed": false,
    "jupyter": {
     "outputs_hidden": false
    }
   },
   "outputs": [],
   "source": [
    "# print(f'Shape of Phi = {Phi.shape}')\n",
    "# print(f'Rank of Phi = {np.linalg.matrix_rank(Phi)}')\n",
    "# print(f'Rank of Phi.T = {np.linalg.matrix_rank(Phi.T)}')\n",
    "# print(f'Rank of [[I] [Phi]] = {np.linalg.matrix_rank(np.vstack((np.eye(Phi.shape[0], Phi.shape[1]), Phi)))}')\n",
    "# print(type(Phi_test))\n",
    "# print(type(w_cvx.value))\n",
    "# # print(type(np.array(w_cvx.value, dtype=float)))\n",
    "# # w_values = np.array(w_cvx.value, dtype=float)\n",
    "# print(w_cvx.value)"
   ]
  },
  {
   "cell_type": "code",
   "execution_count": 11,
   "id": "34bf6d16-bcb7-451c-90fc-a86551801909",
   "metadata": {
    "ExecuteTime": {
     "start_time": "2023-09-16T19:53:58.461691100Z"
    }
   },
   "outputs": [
    {
     "data": {
      "image/png": "[encoded data removed]",
      "text/plain": [
       "<Figure size 640x480 with 1 Axes>"
      ]
     },
     "metadata": {},
     "output_type": "display_data"
    },
    {
     "data": {
      "image/png": "[encoded data removed]",
      "text/plain": [
       "<Figure size 640x480 with 1 Axes>"
      ]
     },
     "metadata": {},
     "output_type": "display_data"
    }
   ],
   "source": [
    "# y_test2 = np.dot(Phi_test, w_cvx.value)\n",
    "w_values = np.array(w_cvx.value, dtype=float)\n",
    "# print(w_values.shape)\n",
    "y_test2 = np.dot(Phi_test, w_values)\n",
    "# print(y_test2)\n",
    "\n",
    "# plot the true process and training points\n",
    "fig3 = plt.figure()\n",
    "plt.plot(z, y, linewidth=3, label='true process')\n",
    "plt.plot(x, t, '.', markersize=10, label='training points')\n",
    "plt.plot(z, y_test2, '--', color='k', linewidth=3, label='prediction')\n",
    "plt.legend(loc='best')\n",
    "plt.xlabel(r'$x$')\n",
    "plt.ylabel(r'$y(x)$')\n",
    "plt.xlim([0, 8])\n",
    "plt.ylim([-1.25, 1.25])\n",
    "# fig3.savefig('lin_reg_cvx.png')\n",
    "plt.show()\n",
    "\n",
    "fig4 = plt.figure()\n",
    "plt.stem(w_values)\n",
    "plt.xlabel('basis')\n",
    "plt.ylabel('w_cvx')\n",
    "# fig4.savefig('lin_reg_w_cvx.png')\n",
    "plt.show()"
   ]
  }
 ],
 "metadata": {
  "kernelspec": {
   "display_name": "Python 3 (ipykernel)",
   "language": "python",
   "name": "python3"
  },
  "language_info": {
   "codemirror_mode": {
    "name": "ipython",
    "version": 3
   },
   "file_extension": ".py",
   "mimetype": "text/x-python",
   "name": "python",
   "nbconvert_exporter": "python",
   "pygments_lexer": "ipython3",
   "version": "3.9.19"
  }
 },
 "nbformat": 4,
 "nbformat_minor": 5
}
